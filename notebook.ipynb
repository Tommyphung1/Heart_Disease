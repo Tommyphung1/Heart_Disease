{
 "cells": [
  {
   "cell_type": "markdown",
   "metadata": {},
   "source": [
    "# Determine Top Indictators of Heart Disease Using Multiple Linear Regressors\n",
    "Author: Tommy Phung\n",
    "Soruce: Kaggle*"
   ]
  },
  {
   "cell_type": "markdown",
   "metadata": {},
   "source": [
    "Overview"
   ]
  },
  {
   "cell_type": "markdown",
   "metadata": {},
   "source": [
    "# Data Exploration\n",
    "The data was provided by Bhavesh Misra on Kaggle with multiple different columns. The idea of this dataset was to see if we can correlate the different features and attempt to connect them having a heart disease or heart attack. Its important to note that some of the columns are a little ambigious and that it will not be used for the purpose not misintretaing the data or author intentions. \n",
    "\n",
    "| **Column Name** | **Description** | **Markers** |\n",
    "|:---:|:---:|:---:|\n",
    "| HeartDiseaseorAttack: | Indicates whether the individual has had a heart disease or heart attack | (binary: 0 = No, 1 = Yes) |\n",
    "| HighBP | High blood pressure status | (binary: 0 = No, 1 = Yes) |\n",
    "| HighChol | High cholesterol status | (binary: 0 = No, 1 = Yes) |\n",
    "| CholCheck | Frequency of cholesterol check | categorical |\n",
    "| BMI | Body Mass Index | continuous |\n",
    "| Smoker | Smoking status | (binary: 0 = No, 1 = Yes) |\n",
    "| Stroke | History of stroke | (binary: 0 = No, 1 = Yes) |\n",
    "| Diabetes | Diabetes status | (binary: 0 = No, 1 = Yes) |\n",
    "| PhysActivity | Level of physical activity | categorical |\n",
    "| Fruits | Frequency of fruit consumption | categorical |\n",
    "| Veggies | Frequency of vegetable consumption | categorical |\n",
    "| HvyAlcoholConsump | Heavy alcohol consumption status | (binary: 0 = No, 1 = Yes) |\n",
    "| AnyHealthcare | Access to any healthcare | (binary: 0 = No, 1 = Yes) |\n",
    "| NoDocbcCost | No doctor because of cost | (binary: 0 = No, 1 = Yes) |\n",
    "| GenHlth | General health assessment | categorical |\n",
    "| MentHlth | Mental health assessment | categorical |\n",
    "| PhysHlth | Level of physical activity | categorical |\n",
    "| DiffWalk | Difficulty walking status | binary: 0 = No, 1 = Yes |\n",
    "| Sex | Gender of the individual | binary: 0 = Female, 1 = Male |\n",
    "| Age | Age of the individual | continuous |\n",
    "| Education | Educational level | categorical |\n",
    "| Income | Income level | categorical |"
   ]
  },
  {
   "cell_type": "code",
   "execution_count": 1,
   "metadata": {},
   "outputs": [],
   "source": [
    "import pandas as pd\n",
    "import matplotlib.pyplot as plt\n",
    "import numpy as np\n",
    "import statsmodels.api as sm"
   ]
  },
  {
   "cell_type": "code",
   "execution_count": 2,
   "metadata": {},
   "outputs": [
    {
     "data": {
      "text/html": [
       "<div>\n",
       "<style scoped>\n",
       "    .dataframe tbody tr th:only-of-type {\n",
       "        vertical-align: middle;\n",
       "    }\n",
       "\n",
       "    .dataframe tbody tr th {\n",
       "        vertical-align: top;\n",
       "    }\n",
       "\n",
       "    .dataframe thead th {\n",
       "        text-align: right;\n",
       "    }\n",
       "</style>\n",
       "<table border=\"1\" class=\"dataframe\">\n",
       "  <thead>\n",
       "    <tr style=\"text-align: right;\">\n",
       "      <th></th>\n",
       "      <th>HeartDiseaseorAttack</th>\n",
       "      <th>HighBP</th>\n",
       "      <th>HighChol</th>\n",
       "      <th>CholCheck</th>\n",
       "      <th>BMI</th>\n",
       "      <th>Smoker</th>\n",
       "      <th>Stroke</th>\n",
       "      <th>Diabetes</th>\n",
       "      <th>PhysActivity</th>\n",
       "      <th>Fruits</th>\n",
       "      <th>...</th>\n",
       "      <th>AnyHealthcare</th>\n",
       "      <th>NoDocbcCost</th>\n",
       "      <th>GenHlth</th>\n",
       "      <th>MentHlth</th>\n",
       "      <th>PhysHlth</th>\n",
       "      <th>DiffWalk</th>\n",
       "      <th>Sex</th>\n",
       "      <th>Age</th>\n",
       "      <th>Education</th>\n",
       "      <th>Income</th>\n",
       "    </tr>\n",
       "  </thead>\n",
       "  <tbody>\n",
       "    <tr>\n",
       "      <th>0</th>\n",
       "      <td>0</td>\n",
       "      <td>1</td>\n",
       "      <td>1</td>\n",
       "      <td>1</td>\n",
       "      <td>40</td>\n",
       "      <td>1</td>\n",
       "      <td>0</td>\n",
       "      <td>0</td>\n",
       "      <td>0</td>\n",
       "      <td>0</td>\n",
       "      <td>...</td>\n",
       "      <td>1</td>\n",
       "      <td>0</td>\n",
       "      <td>5</td>\n",
       "      <td>18</td>\n",
       "      <td>15</td>\n",
       "      <td>1</td>\n",
       "      <td>0</td>\n",
       "      <td>9</td>\n",
       "      <td>4</td>\n",
       "      <td>3</td>\n",
       "    </tr>\n",
       "    <tr>\n",
       "      <th>1</th>\n",
       "      <td>0</td>\n",
       "      <td>0</td>\n",
       "      <td>0</td>\n",
       "      <td>0</td>\n",
       "      <td>25</td>\n",
       "      <td>1</td>\n",
       "      <td>0</td>\n",
       "      <td>0</td>\n",
       "      <td>1</td>\n",
       "      <td>0</td>\n",
       "      <td>...</td>\n",
       "      <td>0</td>\n",
       "      <td>1</td>\n",
       "      <td>3</td>\n",
       "      <td>0</td>\n",
       "      <td>0</td>\n",
       "      <td>0</td>\n",
       "      <td>0</td>\n",
       "      <td>7</td>\n",
       "      <td>6</td>\n",
       "      <td>1</td>\n",
       "    </tr>\n",
       "    <tr>\n",
       "      <th>2</th>\n",
       "      <td>0</td>\n",
       "      <td>1</td>\n",
       "      <td>1</td>\n",
       "      <td>1</td>\n",
       "      <td>28</td>\n",
       "      <td>0</td>\n",
       "      <td>0</td>\n",
       "      <td>0</td>\n",
       "      <td>0</td>\n",
       "      <td>1</td>\n",
       "      <td>...</td>\n",
       "      <td>1</td>\n",
       "      <td>1</td>\n",
       "      <td>5</td>\n",
       "      <td>30</td>\n",
       "      <td>30</td>\n",
       "      <td>1</td>\n",
       "      <td>0</td>\n",
       "      <td>9</td>\n",
       "      <td>4</td>\n",
       "      <td>8</td>\n",
       "    </tr>\n",
       "    <tr>\n",
       "      <th>3</th>\n",
       "      <td>0</td>\n",
       "      <td>1</td>\n",
       "      <td>0</td>\n",
       "      <td>1</td>\n",
       "      <td>27</td>\n",
       "      <td>0</td>\n",
       "      <td>0</td>\n",
       "      <td>0</td>\n",
       "      <td>1</td>\n",
       "      <td>1</td>\n",
       "      <td>...</td>\n",
       "      <td>1</td>\n",
       "      <td>0</td>\n",
       "      <td>2</td>\n",
       "      <td>0</td>\n",
       "      <td>0</td>\n",
       "      <td>0</td>\n",
       "      <td>0</td>\n",
       "      <td>11</td>\n",
       "      <td>3</td>\n",
       "      <td>6</td>\n",
       "    </tr>\n",
       "    <tr>\n",
       "      <th>4</th>\n",
       "      <td>0</td>\n",
       "      <td>1</td>\n",
       "      <td>1</td>\n",
       "      <td>1</td>\n",
       "      <td>24</td>\n",
       "      <td>0</td>\n",
       "      <td>0</td>\n",
       "      <td>0</td>\n",
       "      <td>1</td>\n",
       "      <td>1</td>\n",
       "      <td>...</td>\n",
       "      <td>1</td>\n",
       "      <td>0</td>\n",
       "      <td>2</td>\n",
       "      <td>3</td>\n",
       "      <td>0</td>\n",
       "      <td>0</td>\n",
       "      <td>0</td>\n",
       "      <td>11</td>\n",
       "      <td>5</td>\n",
       "      <td>4</td>\n",
       "    </tr>\n",
       "  </tbody>\n",
       "</table>\n",
       "<p>5 rows × 22 columns</p>\n",
       "</div>"
      ],
      "text/plain": [
       "   HeartDiseaseorAttack  HighBP  HighChol  CholCheck  BMI  Smoker  Stroke  \\\n",
       "0                     0       1         1          1   40       1       0   \n",
       "1                     0       0         0          0   25       1       0   \n",
       "2                     0       1         1          1   28       0       0   \n",
       "3                     0       1         0          1   27       0       0   \n",
       "4                     0       1         1          1   24       0       0   \n",
       "\n",
       "   Diabetes  PhysActivity  Fruits  ...  AnyHealthcare  NoDocbcCost  GenHlth  \\\n",
       "0         0             0       0  ...              1            0        5   \n",
       "1         0             1       0  ...              0            1        3   \n",
       "2         0             0       1  ...              1            1        5   \n",
       "3         0             1       1  ...              1            0        2   \n",
       "4         0             1       1  ...              1            0        2   \n",
       "\n",
       "   MentHlth  PhysHlth  DiffWalk  Sex  Age  Education  Income  \n",
       "0        18        15         1    0    9          4       3  \n",
       "1         0         0         0    0    7          6       1  \n",
       "2        30        30         1    0    9          4       8  \n",
       "3         0         0         0    0   11          3       6  \n",
       "4         3         0         0    0   11          5       4  \n",
       "\n",
       "[5 rows x 22 columns]"
      ]
     },
     "metadata": {},
     "output_type": "display_data"
    },
    {
     "name": "stdout",
     "output_type": "stream",
     "text": [
      "<class 'pandas.core.frame.DataFrame'>\n",
      "RangeIndex: 253661 entries, 0 to 253660\n",
      "Data columns (total 22 columns):\n",
      " #   Column                Non-Null Count   Dtype\n",
      "---  ------                --------------   -----\n",
      " 0   HeartDiseaseorAttack  253661 non-null  int64\n",
      " 1   HighBP                253661 non-null  int64\n",
      " 2   HighChol              253661 non-null  int64\n",
      " 3   CholCheck             253661 non-null  int64\n",
      " 4   BMI                   253661 non-null  int64\n",
      " 5   Smoker                253661 non-null  int64\n",
      " 6   Stroke                253661 non-null  int64\n",
      " 7   Diabetes              253661 non-null  int64\n",
      " 8   PhysActivity          253661 non-null  int64\n",
      " 9   Fruits                253661 non-null  int64\n",
      " 10  Veggies               253661 non-null  int64\n",
      " 11  HvyAlcoholConsump     253661 non-null  int64\n",
      " 12  AnyHealthcare         253661 non-null  int64\n",
      " 13  NoDocbcCost           253661 non-null  int64\n",
      " 14  GenHlth               253661 non-null  int64\n",
      " 15  MentHlth              253661 non-null  int64\n",
      " 16  PhysHlth              253661 non-null  int64\n",
      " 17  DiffWalk              253661 non-null  int64\n",
      " 18  Sex                   253661 non-null  int64\n",
      " 19  Age                   253661 non-null  int64\n",
      " 20  Education             253661 non-null  int64\n",
      " 21  Income                253661 non-null  int64\n",
      "dtypes: int64(22)\n",
      "memory usage: 42.6 MB\n"
     ]
    },
    {
     "data": {
      "text/plain": [
       "None"
      ]
     },
     "metadata": {},
     "output_type": "display_data"
    }
   ],
   "source": [
    "df = pd.read_csv('data/heart_disease_health_indicators.csv')\n",
    "display(df.head())\n",
    "display(df.info())\n"
   ]
  },
  {
   "cell_type": "markdown",
   "metadata": {},
   "source": [
    "# Data Preperation\n",
    "The data comprise of continous, catergorial and binary based columns. In order to perform linear regression on this sort of data, the categorical and binary data must be change to one hot encoding before modeling. There wasn't any missing data from any of the columns so there isn't any data that needed to be removed or changed. "
   ]
  },
  {
   "cell_type": "code",
   "execution_count": 3,
   "metadata": {},
   "outputs": [],
   "source": [
    "cont_col = ['BMI', 'Age']\n",
    "cat_col = ['Education', 'Income', 'Diabetes']\n",
    "bin_col = ['CholCheck', 'PhysActivity', 'Fruits', 'Veggies', 'HighBP', 'HighChol', 'Smoker', \n",
    "           'Stroke', 'HvyAlcoholConsump', 'AnyHealthcare', 'NoDocbcCost', 'DiffWalk', 'Sex']\n",
    "on_hold = ['GenHlth','MentHlth', 'PhysHlth']\n",
    "target = 'HeartDiseaseorAttack'"
   ]
  },
  {
   "cell_type": "code",
   "execution_count": 4,
   "metadata": {},
   "outputs": [],
   "source": [
    "cat_df = df[cat_col]\n",
    "bin_df = df[bin_col]\n",
    "cont_df = df[cont_col]"
   ]
  },
  {
   "cell_type": "markdown",
   "metadata": {},
   "source": [
    "# Baseline Model"
   ]
  },
  {
   "cell_type": "code",
   "execution_count": 5,
   "metadata": {},
   "outputs": [],
   "source": [
    "X = df[df.columns[1:]]\n",
    "y = df[target]\n",
    "model = sm.OLS(y, sm.add_constant(X))\n",
    "result = model.fit()"
   ]
  },
  {
   "cell_type": "code",
   "execution_count": 6,
   "metadata": {},
   "outputs": [
    {
     "name": "stdout",
     "output_type": "stream",
     "text": [
      "                             OLS Regression Results                             \n",
      "================================================================================\n",
      "Dep. Variable:     HeartDiseaseorAttack   R-squared:                       0.149\n",
      "Model:                              OLS   Adj. R-squared:                  0.149\n",
      "Method:                   Least Squares   F-statistic:                     2121.\n",
      "Date:                  Sun, 15 Oct 2023   Prob (F-statistic):               0.00\n",
      "Time:                          15:06:19   Log-Likelihood:                -27211.\n",
      "No. Observations:                253661   AIC:                         5.447e+04\n",
      "Df Residuals:                    253639   BIC:                         5.470e+04\n",
      "Df Model:                            21                                         \n",
      "Covariance Type:              nonrobust                                         \n",
      "=====================================================================================\n",
      "                        coef    std err          t      P>|t|      [0.025      0.975]\n",
      "-------------------------------------------------------------------------------------\n",
      "const                -0.1455      0.006    -25.190      0.000      -0.157      -0.134\n",
      "HighBP                0.0335      0.001     26.770      0.000       0.031       0.036\n",
      "HighChol              0.0386      0.001     32.873      0.000       0.036       0.041\n",
      "CholCheck             0.0145      0.003      5.039      0.000       0.009       0.020\n",
      "BMI                  -0.0012   8.72e-05    -14.313      0.000      -0.001      -0.001\n",
      "Smoker                0.0230      0.001     20.470      0.000       0.021       0.025\n",
      "Stroke                0.1878      0.003     67.214      0.000       0.182       0.193\n",
      "Diabetes              0.0239      0.001     28.434      0.000       0.022       0.026\n",
      "PhysActivity          0.0032      0.001      2.366      0.018       0.001       0.006\n",
      "Fruits                0.0038      0.001      3.262      0.001       0.002       0.006\n",
      "Veggies               0.0036      0.001      2.464      0.014       0.001       0.006\n",
      "HvyAlcoholConsump    -0.0192      0.002     -8.169      0.000      -0.024      -0.015\n",
      "AnyHealthcare         0.0080      0.003      3.058      0.002       0.003       0.013\n",
      "NoDocbcCost           0.0077      0.002      3.728      0.000       0.004       0.012\n",
      "GenHlth               0.0330      0.001     49.035      0.000       0.032       0.034\n",
      "MentHlth             -0.0002   8.03e-05     -2.284      0.022      -0.000   -2.61e-05\n",
      "PhysHlth              0.0010   7.81e-05     12.234      0.000       0.001       0.001\n",
      "DiffWalk              0.0498      0.002     28.151      0.000       0.046       0.053\n",
      "Sex                   0.0531      0.001     47.748      0.000       0.051       0.055\n",
      "Age                   0.0110      0.000     54.477      0.000       0.011       0.011\n",
      "Education             0.0010      0.001      1.635      0.102      -0.000       0.002\n",
      "Income               -0.0035      0.000    -11.116      0.000      -0.004      -0.003\n",
      "==============================================================================\n",
      "Omnibus:                   106729.902   Durbin-Watson:                   1.994\n",
      "Prob(Omnibus):                  0.000   Jarque-Bera (JB):           398732.456\n",
      "Skew:                           2.171   Prob(JB):                         0.00\n",
      "Kurtosis:                       7.344   Cond. No.                         357.\n",
      "==============================================================================\n",
      "\n",
      "Notes:\n",
      "[1] Standard Errors assume that the covariance matrix of the errors is correctly specified.\n"
     ]
    }
   ],
   "source": [
    "print(result.summary())"
   ]
  },
  {
   "cell_type": "code",
   "execution_count": 7,
   "metadata": {},
   "outputs": [],
   "source": [
    "from sklearn.preprocessing import StandardScaler, MinMaxScaler\n",
    "scalar = MinMaxScaler()\n",
    "scaled_df = pd.DataFrame(scalar.fit_transform(df), columns= df.columns)"
   ]
  },
  {
   "cell_type": "code",
   "execution_count": 8,
   "metadata": {},
   "outputs": [
    {
     "name": "stdout",
     "output_type": "stream",
     "text": [
      "                             OLS Regression Results                             \n",
      "================================================================================\n",
      "Dep. Variable:     HeartDiseaseorAttack   R-squared:                       0.149\n",
      "Model:                              OLS   Adj. R-squared:                  0.149\n",
      "Method:                   Least Squares   F-statistic:                     2121.\n",
      "Date:                  Sun, 15 Oct 2023   Prob (F-statistic):               0.00\n",
      "Time:                          15:06:20   Log-Likelihood:                -27211.\n",
      "No. Observations:                253661   AIC:                         5.447e+04\n",
      "Df Residuals:                    253639   BIC:                         5.470e+04\n",
      "Df Model:                            21                                         \n",
      "Covariance Type:              nonrobust                                         \n",
      "=====================================================================================\n",
      "                        coef    std err          t      P>|t|      [0.025      0.975]\n",
      "-------------------------------------------------------------------------------------\n",
      "const                -0.1189      0.005    -24.421      0.000      -0.128      -0.109\n",
      "HighBP                0.0335      0.001     26.770      0.000       0.031       0.036\n",
      "HighChol              0.0386      0.001     32.873      0.000       0.036       0.041\n",
      "CholCheck             0.0145      0.003      5.039      0.000       0.009       0.020\n",
      "BMI                  -0.1074      0.008    -14.313      0.000      -0.122      -0.093\n",
      "Smoker                0.0230      0.001     20.470      0.000       0.021       0.025\n",
      "Stroke                0.1878      0.003     67.214      0.000       0.182       0.193\n",
      "Diabetes              0.0478      0.002     28.434      0.000       0.045       0.051\n",
      "PhysActivity          0.0032      0.001      2.366      0.018       0.001       0.006\n",
      "Fruits                0.0038      0.001      3.262      0.001       0.002       0.006\n",
      "Veggies               0.0036      0.001      2.464      0.014       0.001       0.006\n",
      "HvyAlcoholConsump    -0.0192      0.002     -8.169      0.000      -0.024      -0.015\n",
      "AnyHealthcare         0.0080      0.003      3.058      0.002       0.003       0.013\n",
      "NoDocbcCost           0.0077      0.002      3.728      0.000       0.004       0.012\n",
      "GenHlth               0.1320      0.003     49.035      0.000       0.127       0.137\n",
      "MentHlth             -0.0055      0.002     -2.284      0.022      -0.010      -0.001\n",
      "PhysHlth              0.0287      0.002     12.234      0.000       0.024       0.033\n",
      "DiffWalk              0.0498      0.002     28.151      0.000       0.046       0.053\n",
      "Sex                   0.0531      0.001     47.748      0.000       0.051       0.055\n",
      "Age                   0.1325      0.002     54.477      0.000       0.128       0.137\n",
      "Education             0.0051      0.003      1.635      0.102      -0.001       0.011\n",
      "Income               -0.0247      0.002    -11.116      0.000      -0.029      -0.020\n",
      "==============================================================================\n",
      "Omnibus:                   106729.902   Durbin-Watson:                   1.994\n",
      "Prob(Omnibus):                  0.000   Jarque-Bera (JB):           398732.456\n",
      "Skew:                           2.171   Prob(JB):                         0.00\n",
      "Kurtosis:                       7.344   Cond. No.                         38.8\n",
      "==============================================================================\n",
      "\n",
      "Notes:\n",
      "[1] Standard Errors assume that the covariance matrix of the errors is correctly specified.\n"
     ]
    }
   ],
   "source": [
    "X = scaled_df[scaled_df.columns[1:]]\n",
    "y = scaled_df[target]\n",
    "model_scaled = sm.OLS(y, sm.add_constant(X))\n",
    "result_scaled = model_scaled.fit()\n",
    "print(result_scaled.summary())"
   ]
  },
  {
   "cell_type": "code",
   "execution_count": 9,
   "metadata": {},
   "outputs": [
    {
     "data": {
      "text/plain": [
       "HeartDiseaseorAttack    1.000000\n",
       "HighBP                  0.209347\n",
       "HighChol                0.180744\n",
       "CholCheck               0.044202\n",
       "BMI                     0.052927\n",
       "Smoker                  0.114451\n",
       "Stroke                  0.202978\n",
       "Diabetes                0.180220\n",
       "PhysActivity           -0.087284\n",
       "Fruits                 -0.019822\n",
       "Veggies                -0.039117\n",
       "HvyAlcoholConsump      -0.028983\n",
       "AnyHealthcare           0.018726\n",
       "NoDocbcCost             0.030994\n",
       "GenHlth                 0.258380\n",
       "MentHlth                0.064632\n",
       "PhysHlth                0.181750\n",
       "DiffWalk                0.212700\n",
       "Sex                     0.086082\n",
       "Age                     0.221588\n",
       "Education              -0.099556\n",
       "Income                 -0.140966\n",
       "dtype: float64"
      ]
     },
     "execution_count": 9,
     "metadata": {},
     "output_type": "execute_result"
    }
   ],
   "source": [
    "df.corrwith(df.HeartDiseaseorAttack)"
   ]
  },
  {
   "cell_type": "code",
   "execution_count": 10,
   "metadata": {},
   "outputs": [],
   "source": [
    "top_corr = ['GenHlth','Age', 'DiffWalk','HighBP', 'Stroke', 'PhysHlth','HighChol','Diabetes','Smoker', 'Income']"
   ]
  },
  {
   "cell_type": "markdown",
   "metadata": {},
   "source": [
    "From the corralation with the target variable, I looked at all the columns with over 10% collation and see if this may help the model. It is also good to note that there was one that had a negative correlation, Income. This would hint that the higher that individual income, the lower the chance of heart disease. Income is a mixed bag as this feature have indirect influence to other features like fruits, education and Health Care. \n"
   ]
  },
  {
   "cell_type": "code",
   "execution_count": 11,
   "metadata": {},
   "outputs": [
    {
     "ename": "NameError",
     "evalue": "name 'result_top' is not defined",
     "output_type": "error",
     "traceback": [
      "\u001b[1;31m---------------------------------------------------------------------------\u001b[0m",
      "\u001b[1;31mNameError\u001b[0m                                 Traceback (most recent call last)",
      "\u001b[1;32m<ipython-input-11-b2eadb09515b>\u001b[0m in \u001b[0;36m<module>\u001b[1;34m\u001b[0m\n\u001b[0;32m      1\u001b[0m \u001b[0mfig\u001b[0m \u001b[1;33m=\u001b[0m \u001b[0mplt\u001b[0m\u001b[1;33m.\u001b[0m\u001b[0mfigure\u001b[0m\u001b[1;33m(\u001b[0m\u001b[0mfigsize\u001b[0m\u001b[1;33m=\u001b[0m\u001b[1;33m(\u001b[0m\u001b[1;36m15\u001b[0m\u001b[1;33m,\u001b[0m\u001b[1;36m30\u001b[0m\u001b[1;33m)\u001b[0m\u001b[1;33m)\u001b[0m\u001b[1;33m\u001b[0m\u001b[1;33m\u001b[0m\u001b[0m\n\u001b[1;32m----> 2\u001b[1;33m \u001b[0msm\u001b[0m\u001b[1;33m.\u001b[0m\u001b[0mgraphics\u001b[0m\u001b[1;33m.\u001b[0m\u001b[0mplot_partregress_grid\u001b[0m\u001b[1;33m(\u001b[0m\u001b[0mresult_top\u001b[0m\u001b[1;33m,\u001b[0m \u001b[0mfig\u001b[0m\u001b[1;33m=\u001b[0m\u001b[0mfig\u001b[0m\u001b[1;33m)\u001b[0m\u001b[1;33m\u001b[0m\u001b[1;33m\u001b[0m\u001b[0m\n\u001b[0m\u001b[0;32m      3\u001b[0m \u001b[0mplt\u001b[0m\u001b[1;33m.\u001b[0m\u001b[0mtight_layout\u001b[0m\u001b[1;33m(\u001b[0m\u001b[1;33m)\u001b[0m\u001b[1;33m\u001b[0m\u001b[1;33m\u001b[0m\u001b[0m\n\u001b[0;32m      4\u001b[0m \u001b[0mplt\u001b[0m\u001b[1;33m.\u001b[0m\u001b[0mshow\u001b[0m\u001b[1;33m(\u001b[0m\u001b[1;33m)\u001b[0m\u001b[1;33m\u001b[0m\u001b[1;33m\u001b[0m\u001b[0m\n",
      "\u001b[1;31mNameError\u001b[0m: name 'result_top' is not defined"
     ]
    },
    {
     "data": {
      "text/plain": [
       "<Figure size 1080x2160 with 0 Axes>"
      ]
     },
     "metadata": {},
     "output_type": "display_data"
    }
   ],
   "source": [
    "fig = plt.figure(figsize=(15,30))\n",
    "sm.graphics.plot_partregress_grid(result_top, fig=fig)\n",
    "plt.tight_layout()\n",
    "plt.show()"
   ]
  },
  {
   "cell_type": "code",
   "execution_count": 12,
   "metadata": {},
   "outputs": [
    {
     "data": {
      "text/html": [
       "<style>#sk-container-id-1 {color: black;background-color: white;}#sk-container-id-1 pre{padding: 0;}#sk-container-id-1 div.sk-toggleable {background-color: white;}#sk-container-id-1 label.sk-toggleable__label {cursor: pointer;display: block;width: 100%;margin-bottom: 0;padding: 0.3em;box-sizing: border-box;text-align: center;}#sk-container-id-1 label.sk-toggleable__label-arrow:before {content: \"▸\";float: left;margin-right: 0.25em;color: #696969;}#sk-container-id-1 label.sk-toggleable__label-arrow:hover:before {color: black;}#sk-container-id-1 div.sk-estimator:hover label.sk-toggleable__label-arrow:before {color: black;}#sk-container-id-1 div.sk-toggleable__content {max-height: 0;max-width: 0;overflow: hidden;text-align: left;background-color: #f0f8ff;}#sk-container-id-1 div.sk-toggleable__content pre {margin: 0.2em;color: black;border-radius: 0.25em;background-color: #f0f8ff;}#sk-container-id-1 input.sk-toggleable__control:checked~div.sk-toggleable__content {max-height: 200px;max-width: 100%;overflow: auto;}#sk-container-id-1 input.sk-toggleable__control:checked~label.sk-toggleable__label-arrow:before {content: \"▾\";}#sk-container-id-1 div.sk-estimator input.sk-toggleable__control:checked~label.sk-toggleable__label {background-color: #d4ebff;}#sk-container-id-1 div.sk-label input.sk-toggleable__control:checked~label.sk-toggleable__label {background-color: #d4ebff;}#sk-container-id-1 input.sk-hidden--visually {border: 0;clip: rect(1px 1px 1px 1px);clip: rect(1px, 1px, 1px, 1px);height: 1px;margin: -1px;overflow: hidden;padding: 0;position: absolute;width: 1px;}#sk-container-id-1 div.sk-estimator {font-family: monospace;background-color: #f0f8ff;border: 1px dotted black;border-radius: 0.25em;box-sizing: border-box;margin-bottom: 0.5em;}#sk-container-id-1 div.sk-estimator:hover {background-color: #d4ebff;}#sk-container-id-1 div.sk-parallel-item::after {content: \"\";width: 100%;border-bottom: 1px solid gray;flex-grow: 1;}#sk-container-id-1 div.sk-label:hover label.sk-toggleable__label {background-color: #d4ebff;}#sk-container-id-1 div.sk-serial::before {content: \"\";position: absolute;border-left: 1px solid gray;box-sizing: border-box;top: 0;bottom: 0;left: 50%;z-index: 0;}#sk-container-id-1 div.sk-serial {display: flex;flex-direction: column;align-items: center;background-color: white;padding-right: 0.2em;padding-left: 0.2em;position: relative;}#sk-container-id-1 div.sk-item {position: relative;z-index: 1;}#sk-container-id-1 div.sk-parallel {display: flex;align-items: stretch;justify-content: center;background-color: white;position: relative;}#sk-container-id-1 div.sk-item::before, #sk-container-id-1 div.sk-parallel-item::before {content: \"\";position: absolute;border-left: 1px solid gray;box-sizing: border-box;top: 0;bottom: 0;left: 50%;z-index: -1;}#sk-container-id-1 div.sk-parallel-item {display: flex;flex-direction: column;z-index: 1;position: relative;background-color: white;}#sk-container-id-1 div.sk-parallel-item:first-child::after {align-self: flex-end;width: 50%;}#sk-container-id-1 div.sk-parallel-item:last-child::after {align-self: flex-start;width: 50%;}#sk-container-id-1 div.sk-parallel-item:only-child::after {width: 0;}#sk-container-id-1 div.sk-dashed-wrapped {border: 1px dashed gray;margin: 0 0.4em 0.5em 0.4em;box-sizing: border-box;padding-bottom: 0.4em;background-color: white;}#sk-container-id-1 div.sk-label label {font-family: monospace;font-weight: bold;display: inline-block;line-height: 1.2em;}#sk-container-id-1 div.sk-label-container {text-align: center;}#sk-container-id-1 div.sk-container {/* jupyter's `normalize.less` sets `[hidden] { display: none; }` but bootstrap.min.css set `[hidden] { display: none !important; }` so we also need the `!important` here to be able to override the default hidden behavior on the sphinx rendered scikit-learn.org. See: https://github.com/scikit-learn/scikit-learn/issues/21755 */display: inline-block !important;position: relative;}#sk-container-id-1 div.sk-text-repr-fallback {display: none;}</style><div id=\"sk-container-id-1\" class=\"sk-top-container\"><div class=\"sk-text-repr-fallback\"><pre>LogisticRegression()</pre><b>In a Jupyter environment, please rerun this cell to show the HTML representation or trust the notebook. <br />On GitHub, the HTML representation is unable to render, please try loading this page with nbviewer.org.</b></div><div class=\"sk-container\" hidden><div class=\"sk-item\"><div class=\"sk-estimator sk-toggleable\"><input class=\"sk-toggleable__control sk-hidden--visually\" id=\"sk-estimator-id-1\" type=\"checkbox\" checked><label for=\"sk-estimator-id-1\" class=\"sk-toggleable__label sk-toggleable__label-arrow\">LogisticRegression</label><div class=\"sk-toggleable__content\"><pre>LogisticRegression()</pre></div></div></div></div></div>"
      ],
      "text/plain": [
       "LogisticRegression()"
      ]
     },
     "execution_count": 12,
     "metadata": {},
     "output_type": "execute_result"
    }
   ],
   "source": [
    "from sklearn.linear_model import LogisticRegression\n",
    "from sklearn.model_selection import train_test_split\n",
    "\n",
    "X_train, X_test, y_train, y_test = train_test_split(X,y)\n",
    "log_reg = LogisticRegression()\n",
    "log_reg.fit(X_train, y_train)"
   ]
  },
  {
   "cell_type": "code",
   "execution_count": 13,
   "metadata": {},
   "outputs": [
    {
     "data": {
      "text/plain": [
       "0.9079096757915983"
      ]
     },
     "execution_count": 13,
     "metadata": {},
     "output_type": "execute_result"
    }
   ],
   "source": [
    "log_reg.score(X_test, y_test)"
   ]
  },
  {
   "cell_type": "code",
   "execution_count": 31,
   "metadata": {},
   "outputs": [
    {
     "data": {
      "text/plain": [
       "[('Age', 3.076545655767203),\n",
       " ('GenHlth', 1.9590746977426),\n",
       " ('Stroke', 0.970690025305487),\n",
       " ('Sex', 0.7656612236993063),\n",
       " ('HighChol', 0.5974999236383245),\n",
       " ('HighBP', 0.5222943932275101),\n",
       " ('CholCheck', 0.4971024743399742),\n",
       " ('Smoker', 0.36535115434923804),\n",
       " ('Diabetes', 0.31494972189871834),\n",
       " ('DiffWalk', 0.3051598437444219),\n",
       " ('NoDocbcCost', 0.23483125356882606),\n",
       " ('MentHlth', 0.07566504445627668),\n",
       " ('BMI', 0.06181041807607974),\n",
       " ('PhysActivity', 0.04592796433170139),\n",
       " ('Education', 0.03292531167304297),\n",
       " ('Veggies', 0.030065542686097128),\n",
       " ('PhysHlth', 0.026239908313018),\n",
       " ('Fruits', 0.02137135968657615),\n",
       " ('AnyHealthcare', -0.01203806202374529),\n",
       " ('HvyAlcoholConsump', -0.2897015362627904),\n",
       " ('Income', -0.31560222295299023)]"
      ]
     },
     "execution_count": 31,
     "metadata": {},
     "output_type": "execute_result"
    }
   ],
   "source": [
    "result_coef = sorted(list(zip(log_reg.feature_names_in_, log_reg.coef_[0])), key= lambda x: x[1], reverse= True)\n",
    "result_coef"
   ]
  },
  {
   "cell_type": "markdown",
   "metadata": {},
   "source": [
    "From the Coefficeint, we can how strong the feature relate to the target columns. For the most part, we can reason the top coeffience and the smallest. For example, Age and genreal health is indicative to heart disease or any disease in general. Then there is the causes of most heart disease with heart related symthos syuch as Strokes, High Colesterold and Higher Blood Pressure. As we go down the list, Education, Veggie, fruits and pychical health and activait have a lower coefficient. Some interesting results regarding the coeffiecnet was that alcohol consump have a negative effect to the patient likelihood of heart disease. Some of the negative make sense when cosider whtat a postive increase means. Higher incomse would expect a lower chance assuming the money is used for their health and life sytle and AnyHealthCare is asking a simple question with 1 being having it. Altough it is couter intitituve to say that acholoh have no eefect in heart relatived disease, I would personally say that drinking alchold would lower heart disease. Interestingly, studies have been done showing some benfiit in acholoh as it reduces streas that can lead to effects on the hearth that could possibly be explored. "
   ]
  },
  {
   "cell_type": "code",
   "execution_count": 43,
   "metadata": {},
   "outputs": [
    {
     "name": "stderr",
     "output_type": "stream",
     "text": [
      "C:\\Users\\Tommy\\anaconda3\\envs\\learn-env\\lib\\site-packages\\sklearn\\base.py:420: UserWarning: X does not have valid feature names, but LogisticRegression was fitted with feature names\n",
      "  warnings.warn(\n"
     ]
    },
    {
     "data": {
      "text/plain": [
       "array([1.])"
      ]
     },
     "execution_count": 44,
     "metadata": {},
     "output_type": "execute_result"
    }
   ],
   "source": [
    "log_reg.predict(X = [df[df.columns[1:]].iloc[0].values])"
   ]
  },
  {
   "cell_type": "code",
   "execution_count": 45,
   "metadata": {},
   "outputs": [
    {
     "data": {
      "text/plain": [
       "array([ 0,  1,  1,  1, 40,  1,  0,  0,  0,  0,  1,  0,  1,  0,  5, 18, 15,\n",
       "        1,  0,  9,  4,  3], dtype=int64)"
      ]
     },
     "execution_count": 45,
     "metadata": {},
     "output_type": "execute_result"
    }
   ],
   "source": [
    "df.iloc[0].values"
   ]
  },
  {
   "cell_type": "code",
   "execution_count": null,
   "metadata": {},
   "outputs": [],
   "source": []
  }
 ],
 "metadata": {
  "kernelspec": {
   "display_name": "Python 3",
   "language": "python",
   "name": "python3"
  },
  "language_info": {
   "codemirror_mode": {
    "name": "ipython",
    "version": 3
   },
   "file_extension": ".py",
   "mimetype": "text/x-python",
   "name": "python",
   "nbconvert_exporter": "python",
   "pygments_lexer": "ipython3",
   "version": "3.8.5"
  }
 },
 "nbformat": 4,
 "nbformat_minor": 4
}
