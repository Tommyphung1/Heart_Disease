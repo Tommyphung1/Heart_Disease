{
 "cells": [
  {
   "cell_type": "markdown",
   "metadata": {},
   "source": [
    "# Determine Top Indictators of Heart Disease Using Multiple Linear Regressors\n",
    "Author: Tommy Phung\n",
    "Soruce: Kaggle*"
   ]
  },
  {
   "cell_type": "markdown",
   "metadata": {},
   "source": [
    "Overview"
   ]
  },
  {
   "cell_type": "markdown",
   "metadata": {},
   "source": [
    "# Data Exploration\n",
    "The data was provided by Bhavesh Misra on Kaggle with multiple different columns. The idea of this dataset was to see if we can correlate the different features and attempt to connect them having a heart disease or heart attack. Its important to note that some of the columns are a little ambigious and that it will not be used for the purpose not misintretaing the data or author intentions. \n",
    "\n",
    "| **Column Name** | **Description** | **Markers** |\n",
    "|:---:|:---:|:---:|\n",
    "| HeartDiseaseorAttack: | Indicates whether the individual has had a heart disease or heart attack | (binary: 0 = No, 1 = Yes) |\n",
    "| HighBP | High blood pressure status | (binary: 0 = No, 1 = Yes) |\n",
    "| HighChol | High cholesterol status | (binary: 0 = No, 1 = Yes) |\n",
    "| CholCheck | Frequency of cholesterol check | categorical |\n",
    "| BMI | Body Mass Index | continuous |\n",
    "| Smoker | Smoking status | (binary: 0 = No, 1 = Yes) |\n",
    "| Stroke | History of stroke | (binary: 0 = No, 1 = Yes) |\n",
    "| Diabetes | Diabetes status | (binary: 0 = No, 1 = Yes) |\n",
    "| PhysActivity | Level of physical activity | categorical |\n",
    "| Fruits | Frequency of fruit consumption | categorical |\n",
    "| Veggies | Frequency of vegetable consumption | categorical |\n",
    "| HvyAlcoholConsump | Heavy alcohol consumption status | (binary: 0 = No, 1 = Yes) |\n",
    "| AnyHealthcare | Access to any healthcare | (binary: 0 = No, 1 = Yes) |\n",
    "| NoDocbcCost | No doctor because of cost | (binary: 0 = No, 1 = Yes) |\n",
    "| GenHlth | General health assessment | categorical |\n",
    "| MentHlth | Mental health assessment | categorical |\n",
    "| PhysHlth | Level of physical activity | categorical |\n",
    "| DiffWalk | Difficulty walking status | binary: 0 = No, 1 = Yes |\n",
    "| Sex | Gender of the individual | binary: 0 = Female, 1 = Male |\n",
    "| Age | Age of the individual | continuous |\n",
    "| Education | Educational level | categorical |\n",
    "| Income | Income level | categorical |"
   ]
  },
  {
   "cell_type": "code",
   "execution_count": 1,
   "metadata": {},
   "outputs": [],
   "source": [
    "import pandas as pd\n",
    "import matplotlib.pyplot as plt\n",
    "import numpy as np\n",
    "import statsmodels.api as sm"
   ]
  },
  {
   "cell_type": "code",
   "execution_count": 39,
   "metadata": {},
   "outputs": [
    {
     "data": {
      "text/html": [
       "<div>\n",
       "<style scoped>\n",
       "    .dataframe tbody tr th:only-of-type {\n",
       "        vertical-align: middle;\n",
       "    }\n",
       "\n",
       "    .dataframe tbody tr th {\n",
       "        vertical-align: top;\n",
       "    }\n",
       "\n",
       "    .dataframe thead th {\n",
       "        text-align: right;\n",
       "    }\n",
       "</style>\n",
       "<table border=\"1\" class=\"dataframe\">\n",
       "  <thead>\n",
       "    <tr style=\"text-align: right;\">\n",
       "      <th></th>\n",
       "      <th>HeartDiseaseorAttack</th>\n",
       "      <th>HighBP</th>\n",
       "      <th>HighChol</th>\n",
       "      <th>CholCheck</th>\n",
       "      <th>BMI</th>\n",
       "      <th>Smoker</th>\n",
       "      <th>Stroke</th>\n",
       "      <th>Diabetes</th>\n",
       "      <th>PhysActivity</th>\n",
       "      <th>Fruits</th>\n",
       "      <th>...</th>\n",
       "      <th>AnyHealthcare</th>\n",
       "      <th>NoDocbcCost</th>\n",
       "      <th>GenHlth</th>\n",
       "      <th>MentHlth</th>\n",
       "      <th>PhysHlth</th>\n",
       "      <th>DiffWalk</th>\n",
       "      <th>Sex</th>\n",
       "      <th>Age</th>\n",
       "      <th>Education</th>\n",
       "      <th>Income</th>\n",
       "    </tr>\n",
       "  </thead>\n",
       "  <tbody>\n",
       "    <tr>\n",
       "      <th>0</th>\n",
       "      <td>0</td>\n",
       "      <td>1</td>\n",
       "      <td>1</td>\n",
       "      <td>1</td>\n",
       "      <td>40</td>\n",
       "      <td>1</td>\n",
       "      <td>0</td>\n",
       "      <td>0</td>\n",
       "      <td>0</td>\n",
       "      <td>0</td>\n",
       "      <td>...</td>\n",
       "      <td>1</td>\n",
       "      <td>0</td>\n",
       "      <td>5</td>\n",
       "      <td>18</td>\n",
       "      <td>15</td>\n",
       "      <td>1</td>\n",
       "      <td>0</td>\n",
       "      <td>9</td>\n",
       "      <td>4</td>\n",
       "      <td>3</td>\n",
       "    </tr>\n",
       "    <tr>\n",
       "      <th>1</th>\n",
       "      <td>0</td>\n",
       "      <td>0</td>\n",
       "      <td>0</td>\n",
       "      <td>0</td>\n",
       "      <td>25</td>\n",
       "      <td>1</td>\n",
       "      <td>0</td>\n",
       "      <td>0</td>\n",
       "      <td>1</td>\n",
       "      <td>0</td>\n",
       "      <td>...</td>\n",
       "      <td>0</td>\n",
       "      <td>1</td>\n",
       "      <td>3</td>\n",
       "      <td>0</td>\n",
       "      <td>0</td>\n",
       "      <td>0</td>\n",
       "      <td>0</td>\n",
       "      <td>7</td>\n",
       "      <td>6</td>\n",
       "      <td>1</td>\n",
       "    </tr>\n",
       "    <tr>\n",
       "      <th>2</th>\n",
       "      <td>0</td>\n",
       "      <td>1</td>\n",
       "      <td>1</td>\n",
       "      <td>1</td>\n",
       "      <td>28</td>\n",
       "      <td>0</td>\n",
       "      <td>0</td>\n",
       "      <td>0</td>\n",
       "      <td>0</td>\n",
       "      <td>1</td>\n",
       "      <td>...</td>\n",
       "      <td>1</td>\n",
       "      <td>1</td>\n",
       "      <td>5</td>\n",
       "      <td>30</td>\n",
       "      <td>30</td>\n",
       "      <td>1</td>\n",
       "      <td>0</td>\n",
       "      <td>9</td>\n",
       "      <td>4</td>\n",
       "      <td>8</td>\n",
       "    </tr>\n",
       "    <tr>\n",
       "      <th>3</th>\n",
       "      <td>0</td>\n",
       "      <td>1</td>\n",
       "      <td>0</td>\n",
       "      <td>1</td>\n",
       "      <td>27</td>\n",
       "      <td>0</td>\n",
       "      <td>0</td>\n",
       "      <td>0</td>\n",
       "      <td>1</td>\n",
       "      <td>1</td>\n",
       "      <td>...</td>\n",
       "      <td>1</td>\n",
       "      <td>0</td>\n",
       "      <td>2</td>\n",
       "      <td>0</td>\n",
       "      <td>0</td>\n",
       "      <td>0</td>\n",
       "      <td>0</td>\n",
       "      <td>11</td>\n",
       "      <td>3</td>\n",
       "      <td>6</td>\n",
       "    </tr>\n",
       "    <tr>\n",
       "      <th>4</th>\n",
       "      <td>0</td>\n",
       "      <td>1</td>\n",
       "      <td>1</td>\n",
       "      <td>1</td>\n",
       "      <td>24</td>\n",
       "      <td>0</td>\n",
       "      <td>0</td>\n",
       "      <td>0</td>\n",
       "      <td>1</td>\n",
       "      <td>1</td>\n",
       "      <td>...</td>\n",
       "      <td>1</td>\n",
       "      <td>0</td>\n",
       "      <td>2</td>\n",
       "      <td>3</td>\n",
       "      <td>0</td>\n",
       "      <td>0</td>\n",
       "      <td>0</td>\n",
       "      <td>11</td>\n",
       "      <td>5</td>\n",
       "      <td>4</td>\n",
       "    </tr>\n",
       "  </tbody>\n",
       "</table>\n",
       "<p>5 rows × 22 columns</p>\n",
       "</div>"
      ],
      "text/plain": [
       "   HeartDiseaseorAttack  HighBP  HighChol  CholCheck  BMI  Smoker  Stroke  \\\n",
       "0                     0       1         1          1   40       1       0   \n",
       "1                     0       0         0          0   25       1       0   \n",
       "2                     0       1         1          1   28       0       0   \n",
       "3                     0       1         0          1   27       0       0   \n",
       "4                     0       1         1          1   24       0       0   \n",
       "\n",
       "   Diabetes  PhysActivity  Fruits  ...  AnyHealthcare  NoDocbcCost  GenHlth  \\\n",
       "0         0             0       0  ...              1            0        5   \n",
       "1         0             1       0  ...              0            1        3   \n",
       "2         0             0       1  ...              1            1        5   \n",
       "3         0             1       1  ...              1            0        2   \n",
       "4         0             1       1  ...              1            0        2   \n",
       "\n",
       "   MentHlth  PhysHlth  DiffWalk  Sex  Age  Education  Income  \n",
       "0        18        15         1    0    9          4       3  \n",
       "1         0         0         0    0    7          6       1  \n",
       "2        30        30         1    0    9          4       8  \n",
       "3         0         0         0    0   11          3       6  \n",
       "4         3         0         0    0   11          5       4  \n",
       "\n",
       "[5 rows x 22 columns]"
      ]
     },
     "metadata": {},
     "output_type": "display_data"
    },
    {
     "name": "stdout",
     "output_type": "stream",
     "text": [
      "<class 'pandas.core.frame.DataFrame'>\n",
      "RangeIndex: 253661 entries, 0 to 253660\n",
      "Data columns (total 22 columns):\n",
      " #   Column                Non-Null Count   Dtype\n",
      "---  ------                --------------   -----\n",
      " 0   HeartDiseaseorAttack  253661 non-null  int64\n",
      " 1   HighBP                253661 non-null  int64\n",
      " 2   HighChol              253661 non-null  int64\n",
      " 3   CholCheck             253661 non-null  int64\n",
      " 4   BMI                   253661 non-null  int64\n",
      " 5   Smoker                253661 non-null  int64\n",
      " 6   Stroke                253661 non-null  int64\n",
      " 7   Diabetes              253661 non-null  int64\n",
      " 8   PhysActivity          253661 non-null  int64\n",
      " 9   Fruits                253661 non-null  int64\n",
      " 10  Veggies               253661 non-null  int64\n",
      " 11  HvyAlcoholConsump     253661 non-null  int64\n",
      " 12  AnyHealthcare         253661 non-null  int64\n",
      " 13  NoDocbcCost           253661 non-null  int64\n",
      " 14  GenHlth               253661 non-null  int64\n",
      " 15  MentHlth              253661 non-null  int64\n",
      " 16  PhysHlth              253661 non-null  int64\n",
      " 17  DiffWalk              253661 non-null  int64\n",
      " 18  Sex                   253661 non-null  int64\n",
      " 19  Age                   253661 non-null  int64\n",
      " 20  Education             253661 non-null  int64\n",
      " 21  Income                253661 non-null  int64\n",
      "dtypes: int64(22)\n",
      "memory usage: 42.6 MB\n"
     ]
    },
    {
     "data": {
      "text/plain": [
       "None"
      ]
     },
     "metadata": {},
     "output_type": "display_data"
    }
   ],
   "source": [
    "df = pd.read_csv('data/heart_disease_health_indicators.csv')\n",
    "display(df.head())\n",
    "display(df.info())"
   ]
  },
  {
   "cell_type": "markdown",
   "metadata": {},
   "source": [
    "# Data Preperation\n",
    "The data comprise of continous, catergorial and binary based columns. In order to perform linear regression on this sort of data, the categorical and binary data must be change to one hot encoding before modeling. There wasn't any missing data from any of the columns so there isn't any data that needed to be removed or changed. "
   ]
  },
  {
   "cell_type": "code",
   "execution_count": 3,
   "metadata": {},
   "outputs": [],
   "source": [
    "cont_col = ['BMI', 'Age']\n",
    "cat_col = ['Education', 'Income', 'Diabetes']\n",
    "bin_col = ['CholCheck', 'PhysActivity', 'Fruits', 'Veggies', 'HighBP', 'HighChol', 'Smoker', \n",
    "           'Stroke', 'HvyAlcoholConsump', 'AnyHealthcare', 'NoDocbcCost', 'DiffWalk', 'Sex']\n",
    "on_hold = ['GenHlth','MentHlth', 'PhysHlth']\n",
    "target = 'HeartDiseaseorAttack'"
   ]
  },
  {
   "cell_type": "markdown",
   "metadata": {},
   "source": [
    "# Baseline Model"
   ]
  },
  {
   "cell_type": "code",
   "execution_count": 5,
   "metadata": {},
   "outputs": [
    {
     "data": {
      "text/plain": [
       "HeartDiseaseorAttack    1.000000\n",
       "HighBP                  0.209347\n",
       "HighChol                0.180744\n",
       "CholCheck               0.044202\n",
       "BMI                     0.052927\n",
       "Smoker                  0.114451\n",
       "Stroke                  0.202978\n",
       "Diabetes                0.180220\n",
       "PhysActivity           -0.087284\n",
       "Fruits                 -0.019822\n",
       "Veggies                -0.039117\n",
       "HvyAlcoholConsump      -0.028983\n",
       "AnyHealthcare           0.018726\n",
       "NoDocbcCost             0.030994\n",
       "GenHlth                 0.258380\n",
       "MentHlth                0.064632\n",
       "PhysHlth                0.181750\n",
       "DiffWalk                0.212700\n",
       "Sex                     0.086082\n",
       "Age                     0.221588\n",
       "Education              -0.099556\n",
       "Income                 -0.140966\n",
       "dtype: float64"
      ]
     },
     "execution_count": 5,
     "metadata": {},
     "output_type": "execute_result"
    }
   ],
   "source": [
    "df.corrwith(df.HeartDiseaseorAttack)"
   ]
  },
  {
   "cell_type": "markdown",
   "metadata": {},
   "source": [
    "From the corralation with the target variable, I looked at all the columns with over 10% collation and see if this may help the model. It is also good to note that there was one that had a negative correlation, Income. This would hint that the higher that individual income, the lower the chance of heart disease. Income is a mixed bag as this feature have indirect influence to other features like fruits, education and Health Care. \n"
   ]
  },
  {
   "cell_type": "code",
   "execution_count": 6,
   "metadata": {},
   "outputs": [
    {
     "data": {
      "text/html": [
       "<style>#sk-container-id-1 {color: black;background-color: white;}#sk-container-id-1 pre{padding: 0;}#sk-container-id-1 div.sk-toggleable {background-color: white;}#sk-container-id-1 label.sk-toggleable__label {cursor: pointer;display: block;width: 100%;margin-bottom: 0;padding: 0.3em;box-sizing: border-box;text-align: center;}#sk-container-id-1 label.sk-toggleable__label-arrow:before {content: \"▸\";float: left;margin-right: 0.25em;color: #696969;}#sk-container-id-1 label.sk-toggleable__label-arrow:hover:before {color: black;}#sk-container-id-1 div.sk-estimator:hover label.sk-toggleable__label-arrow:before {color: black;}#sk-container-id-1 div.sk-toggleable__content {max-height: 0;max-width: 0;overflow: hidden;text-align: left;background-color: #f0f8ff;}#sk-container-id-1 div.sk-toggleable__content pre {margin: 0.2em;color: black;border-radius: 0.25em;background-color: #f0f8ff;}#sk-container-id-1 input.sk-toggleable__control:checked~div.sk-toggleable__content {max-height: 200px;max-width: 100%;overflow: auto;}#sk-container-id-1 input.sk-toggleable__control:checked~label.sk-toggleable__label-arrow:before {content: \"▾\";}#sk-container-id-1 div.sk-estimator input.sk-toggleable__control:checked~label.sk-toggleable__label {background-color: #d4ebff;}#sk-container-id-1 div.sk-label input.sk-toggleable__control:checked~label.sk-toggleable__label {background-color: #d4ebff;}#sk-container-id-1 input.sk-hidden--visually {border: 0;clip: rect(1px 1px 1px 1px);clip: rect(1px, 1px, 1px, 1px);height: 1px;margin: -1px;overflow: hidden;padding: 0;position: absolute;width: 1px;}#sk-container-id-1 div.sk-estimator {font-family: monospace;background-color: #f0f8ff;border: 1px dotted black;border-radius: 0.25em;box-sizing: border-box;margin-bottom: 0.5em;}#sk-container-id-1 div.sk-estimator:hover {background-color: #d4ebff;}#sk-container-id-1 div.sk-parallel-item::after {content: \"\";width: 100%;border-bottom: 1px solid gray;flex-grow: 1;}#sk-container-id-1 div.sk-label:hover label.sk-toggleable__label {background-color: #d4ebff;}#sk-container-id-1 div.sk-serial::before {content: \"\";position: absolute;border-left: 1px solid gray;box-sizing: border-box;top: 0;bottom: 0;left: 50%;z-index: 0;}#sk-container-id-1 div.sk-serial {display: flex;flex-direction: column;align-items: center;background-color: white;padding-right: 0.2em;padding-left: 0.2em;position: relative;}#sk-container-id-1 div.sk-item {position: relative;z-index: 1;}#sk-container-id-1 div.sk-parallel {display: flex;align-items: stretch;justify-content: center;background-color: white;position: relative;}#sk-container-id-1 div.sk-item::before, #sk-container-id-1 div.sk-parallel-item::before {content: \"\";position: absolute;border-left: 1px solid gray;box-sizing: border-box;top: 0;bottom: 0;left: 50%;z-index: -1;}#sk-container-id-1 div.sk-parallel-item {display: flex;flex-direction: column;z-index: 1;position: relative;background-color: white;}#sk-container-id-1 div.sk-parallel-item:first-child::after {align-self: flex-end;width: 50%;}#sk-container-id-1 div.sk-parallel-item:last-child::after {align-self: flex-start;width: 50%;}#sk-container-id-1 div.sk-parallel-item:only-child::after {width: 0;}#sk-container-id-1 div.sk-dashed-wrapped {border: 1px dashed gray;margin: 0 0.4em 0.5em 0.4em;box-sizing: border-box;padding-bottom: 0.4em;background-color: white;}#sk-container-id-1 div.sk-label label {font-family: monospace;font-weight: bold;display: inline-block;line-height: 1.2em;}#sk-container-id-1 div.sk-label-container {text-align: center;}#sk-container-id-1 div.sk-container {/* jupyter's `normalize.less` sets `[hidden] { display: none; }` but bootstrap.min.css set `[hidden] { display: none !important; }` so we also need the `!important` here to be able to override the default hidden behavior on the sphinx rendered scikit-learn.org. See: https://github.com/scikit-learn/scikit-learn/issues/21755 */display: inline-block !important;position: relative;}#sk-container-id-1 div.sk-text-repr-fallback {display: none;}</style><div id=\"sk-container-id-1\" class=\"sk-top-container\"><div class=\"sk-text-repr-fallback\"><pre>LogisticRegression()</pre><b>In a Jupyter environment, please rerun this cell to show the HTML representation or trust the notebook. <br />On GitHub, the HTML representation is unable to render, please try loading this page with nbviewer.org.</b></div><div class=\"sk-container\" hidden><div class=\"sk-item\"><div class=\"sk-estimator sk-toggleable\"><input class=\"sk-toggleable__control sk-hidden--visually\" id=\"sk-estimator-id-1\" type=\"checkbox\" checked><label for=\"sk-estimator-id-1\" class=\"sk-toggleable__label sk-toggleable__label-arrow\">LogisticRegression</label><div class=\"sk-toggleable__content\"><pre>LogisticRegression()</pre></div></div></div></div></div>"
      ],
      "text/plain": [
       "LogisticRegression()"
      ]
     },
     "execution_count": 6,
     "metadata": {},
     "output_type": "execute_result"
    }
   ],
   "source": [
    "from sklearn.linear_model import LogisticRegression\n",
    "from sklearn.model_selection import train_test_split\n",
    "from sklearn.preprocessing import StandardScaler, MinMaxScaler\n",
    "\n",
    "scalar = MinMaxScaler()\n",
    "scaled_df = pd.DataFrame(scalar.fit_transform(df), columns= df.columns)\n",
    "X = scaled_df[scaled_df.columns[1:]]\n",
    "y = scaled_df[target]\n",
    "\n",
    "X_train, X_test, y_train, y_test = train_test_split(X,y)\n",
    "log_reg = LogisticRegression()\n",
    "log_reg.fit(X_train, y_train)"
   ]
  },
  {
   "cell_type": "code",
   "execution_count": 7,
   "metadata": {},
   "outputs": [
    {
     "data": {
      "text/plain": [
       "0.9064431689163618"
      ]
     },
     "execution_count": 7,
     "metadata": {},
     "output_type": "execute_result"
    }
   ],
   "source": [
    "log_reg.score(X_test, y_test)"
   ]
  },
  {
   "cell_type": "code",
   "execution_count": 8,
   "metadata": {},
   "outputs": [
    {
     "data": {
      "text/plain": [
       "<sklearn.metrics._plot.confusion_matrix.ConfusionMatrixDisplay at 0x18902f8a910>"
      ]
     },
     "execution_count": 8,
     "metadata": {},
     "output_type": "execute_result"
    },
    {
     "data": {
      "image/png": "[encoded data removed]",
      "text/plain": [
       "<Figure size 432x288 with 2 Axes>"
      ]
     },
     "metadata": {
      "needs_background": "light"
     },
     "output_type": "display_data"
    }
   ],
   "source": [
    "from sklearn.metrics import ConfusionMatrixDisplay\n",
    "ConfusionMatrixDisplay.from_estimator(log_reg, X_test, y_test, normalize= 'all')"
   ]
  },
  {
   "cell_type": "markdown",
   "metadata": {},
   "source": [
    "## Model 1 Anaysis\n",
    "With a 90.89% accuracy, at first glance, the model appears to perform really well. However, we had looked at the class distrubtion and it shows that the data had a imbalance. In other words, the model would most likely predict a patient not to have any issues than to have one. 98% of the data were labeled no heart disease and only 2% for haivng a heart disease. In contrast, the actual distribtuion we closer to a 90:10.   \n",
    "\n",
    "The current solution to improve the model would to under or over sample the data to help balance the data. Both have their own issues. "
   ]
  },
  {
   "cell_type": "code",
   "execution_count": 9,
   "metadata": {},
   "outputs": [
    {
     "data": {
      "text/plain": [
       "[('Age', 3.061280444636084),\n",
       " ('GenHlth', 1.9762369832691355),\n",
       " ('Stroke', 0.9784354152200191),\n",
       " ('Sex', 0.7738658983266049),\n",
       " ('HighChol', 0.6023319683854653),\n",
       " ('CholCheck', 0.5639597499802811),\n",
       " ('HighBP', 0.5536213852584709),\n",
       " ('Smoker', 0.35979476067576616),\n",
       " ('Diabetes', 0.2909117536525788),\n",
       " ('DiffWalk', 0.28809713309711665),\n",
       " ('NoDocbcCost', 0.24822176132945042),\n",
       " ('BMI', 0.14880625330628838),\n",
       " ('MentHlth', 0.08601070937070042),\n",
       " ('Education', 0.05820278106854491),\n",
       " ('Veggies', 0.045096458052119176),\n",
       " ('PhysActivity', 0.041694817418130484),\n",
       " ('PhysHlth', 0.03836466697337252),\n",
       " ('AnyHealthcare', 0.026971313498801806),\n",
       " ('Fruits', 0.013302286150103907),\n",
       " ('Income', -0.28150121402268635),\n",
       " ('HvyAlcoholConsump', -0.29493126757974286)]"
      ]
     },
     "execution_count": 9,
     "metadata": {},
     "output_type": "execute_result"
    }
   ],
   "source": [
    "result_coef = sorted(list(zip(log_reg.feature_names_in_, log_reg.coef_[0])), key= lambda x: x[1], reverse= True)\n",
    "result_coef"
   ]
  },
  {
   "cell_type": "markdown",
   "metadata": {},
   "source": [
    "From the Coefficeint, we can how strong the feature relate to the target columns. For the most part, we can reason the top coeffience and the smallest. For example, Age and genreal health is indicative to heart disease or any disease in general. Then there is the causes of most heart disease with heart related symthos syuch as Strokes, High Colesterold and Higher Blood Pressure. As we go down the list, Education, Veggie, fruits and pychical health and activait have a lower coefficient. Some interesting results regarding the coeffiecnet was that alcohol consump have a negative effect to the patient likelihood of heart disease. Some of the negative make sense when cosider whtat a postive increase means. Higher incomse would expect a lower chance assuming the money is used for their health and life sytle and AnyHealthCare is asking a simple question with 1 being having it. Altough it is couter intitituve to say that acholoh have no eefect in heart relatived disease, I would personally say that drinking alchold would lower heart disease. Interestingly, studies have been done showing some benfiit in acholoh as it reduces streas that can lead to effects on the hearth that could possibly be explored. "
   ]
  },
  {
   "cell_type": "markdown",
   "metadata": {},
   "source": [
    "Model 2\n",
    "I used KNN algortihm to compare with the logistical regression to seee any differnces from the predictions to get a better accuracy. "
   ]
  },
  {
   "cell_type": "code",
   "execution_count": 35,
   "metadata": {},
   "outputs": [
    {
     "data": {
      "text/plain": [
       "array([[0.90067637, 0.09932363],\n",
       "       [0.94080555, 0.05919445],\n",
       "       [0.74992295, 0.25007705],\n",
       "       ...,\n",
       "       [0.96784285, 0.03215715],\n",
       "       [0.59717436, 0.40282564],\n",
       "       [0.97886418, 0.02113582]])"
      ]
     },
     "execution_count": 35,
     "metadata": {},
     "output_type": "execute_result"
    }
   ],
   "source": [
    "log_reg.predict_proba(X_test)"
   ]
  },
  {
   "cell_type": "code",
   "execution_count": 36,
   "metadata": {},
   "outputs": [
    {
     "data": {
      "text/plain": [
       "array([0., 0., 0., ..., 0., 0., 0.])"
      ]
     },
     "execution_count": 36,
     "metadata": {},
     "output_type": "execute_result"
    }
   ],
   "source": [
    "log_reg.predict(X_test)"
   ]
  },
  {
   "cell_type": "code",
   "execution_count": 49,
   "metadata": {},
   "outputs": [
    {
     "name": "stdout",
     "output_type": "stream",
     "text": [
      "F1-Score: 0.2002965359212832\n",
      "Accuracy: 0.9064431689163618\n"
     ]
    }
   ],
   "source": [
    "from sklearn.metrics import f1_score, accuracy_score\n",
    "print('F1-Score: {}'.format(f1_score(y_test, log_reg.predict(X_test))))\n",
    "print('Accuracy: {}'.format(accuracy_score(y_test, log_reg.predict(X_test))))"
   ]
  },
  {
   "cell_type": "markdown",
   "metadata": {},
   "source": [
    "We can see that the model have a high accuracy but poor F1-Score, indicating that the model have a poor evulation in predicting the correct value. "
   ]
  },
  {
   "cell_type": "code",
   "execution_count": null,
   "metadata": {},
   "outputs": [],
   "source": [
    "scaled_df.sample("
   ]
  }
 ],
 "metadata": {
  "kernelspec": {
   "display_name": "Python 3",
   "language": "python",
   "name": "python3"
  },
  "language_info": {
   "codemirror_mode": {
    "name": "ipython",
    "version": 3
   },
   "file_extension": ".py",
   "mimetype": "text/x-python",
   "name": "python",
   "nbconvert_exporter": "python",
   "pygments_lexer": "ipython3",
   "version": "3.8.5"
  }
 },
 "nbformat": 4,
 "nbformat_minor": 4
}
