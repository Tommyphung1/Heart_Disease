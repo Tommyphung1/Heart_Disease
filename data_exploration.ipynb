{
 "cells": [
  {
   "cell_type": "markdown",
   "metadata": {},
   "source": [
    "# Data Exploration"
   ]
  },
  {
   "cell_type": "markdown",
   "metadata": {},
   "source": [
    "# Data First Look\n",
    "Following description are from the kaggle link https://www.kaggle.com/datasets/bhaveshmisra/heart-disease-indicators/ from where the data was obtained. \n",
    "\n",
    "| **Column Name** | **Description** | **Markers** |\n",
    "|:---:|:---:|:---:|\n",
    "| HeartDiseaseorAttack: | Indicates whether the individual has had a heart disease or heart attack | (binary: 0 = No, 1 = Yes) |\n",
    "| HighBP | High blood pressure status | (binary: 0 = No, 1 = Yes) |\n",
    "| HighChol | High cholesterol status | (binary: 0 = No, 1 = Yes) |\n",
    "| CholCheck | Frequency of cholesterol check | categorical |\n",
    "| BMI | Body Mass Index | continuous |\n",
    "| Smoker | Smoking status | (binary: 0 = No, 1 = Yes) |\n",
    "| Stroke | History of stroke | (binary: 0 = No, 1 = Yes) |\n",
    "| Diabetes | Diabetes status | (binary: 0 = No, 1 = Yes) |\n",
    "| PhysActivity | Level of physical activity | categorical |\n",
    "| Fruits | Frequency of fruit consumption | categorical |\n",
    "| Veggies | Frequency of vegetable consumption | categorical |\n",
    "| HvyAlcoholConsump | Heavy alcohol consumption status | (binary: 0 = No, 1 = Yes) |\n",
    "| AnyHealthcare | Access to any healthcare | (binary: 0 = No, 1 = Yes) |\n",
    "| NoDocbcCost | No doctor because of cost | (binary: 0 = No, 1 = Yes) |\n",
    "| GenHlth | General health assessment | categorical |\n",
    "| MentHlth | Mental health assessment | categorical |\n",
    "| PhysHlth | Level of physical activity | categorical |\n",
    "| DiffWalk | Difficulty walking status | binary: 0 = No, 1 = Yes |\n",
    "| Sex | Gender of the individual | binary: 0 = Female, 1 = Male |\n",
    "| Age | Age of the individual | continuous |\n",
    "| Education | Educational level | categorical |\n",
    "| Income | Income level | categorical |"
   ]
  },
  {
   "cell_type": "code",
   "execution_count": 1,
   "metadata": {},
   "outputs": [
    {
     "data": {
      "text/html": [
       "<div>\n",
       "<style scoped>\n",
       "    .dataframe tbody tr th:only-of-type {\n",
       "        vertical-align: middle;\n",
       "    }\n",
       "\n",
       "    .dataframe tbody tr th {\n",
       "        vertical-align: top;\n",
       "    }\n",
       "\n",
       "    .dataframe thead th {\n",
       "        text-align: right;\n",
       "    }\n",
       "</style>\n",
       "<table border=\"1\" class=\"dataframe\">\n",
       "  <thead>\n",
       "    <tr style=\"text-align: right;\">\n",
       "      <th></th>\n",
       "      <th>HeartDiseaseorAttack</th>\n",
       "      <th>HighBP</th>\n",
       "      <th>HighChol</th>\n",
       "      <th>CholCheck</th>\n",
       "      <th>BMI</th>\n",
       "      <th>Smoker</th>\n",
       "      <th>Stroke</th>\n",
       "      <th>Diabetes</th>\n",
       "      <th>PhysActivity</th>\n",
       "      <th>Fruits</th>\n",
       "      <th>...</th>\n",
       "      <th>AnyHealthcare</th>\n",
       "      <th>NoDocbcCost</th>\n",
       "      <th>GenHlth</th>\n",
       "      <th>MentHlth</th>\n",
       "      <th>PhysHlth</th>\n",
       "      <th>DiffWalk</th>\n",
       "      <th>Sex</th>\n",
       "      <th>Age</th>\n",
       "      <th>Education</th>\n",
       "      <th>Income</th>\n",
       "    </tr>\n",
       "  </thead>\n",
       "  <tbody>\n",
       "    <tr>\n",
       "      <th>0</th>\n",
       "      <td>0</td>\n",
       "      <td>1</td>\n",
       "      <td>1</td>\n",
       "      <td>1</td>\n",
       "      <td>40</td>\n",
       "      <td>1</td>\n",
       "      <td>0</td>\n",
       "      <td>0</td>\n",
       "      <td>0</td>\n",
       "      <td>0</td>\n",
       "      <td>...</td>\n",
       "      <td>1</td>\n",
       "      <td>0</td>\n",
       "      <td>5</td>\n",
       "      <td>18</td>\n",
       "      <td>15</td>\n",
       "      <td>1</td>\n",
       "      <td>0</td>\n",
       "      <td>9</td>\n",
       "      <td>4</td>\n",
       "      <td>3</td>\n",
       "    </tr>\n",
       "    <tr>\n",
       "      <th>1</th>\n",
       "      <td>0</td>\n",
       "      <td>0</td>\n",
       "      <td>0</td>\n",
       "      <td>0</td>\n",
       "      <td>25</td>\n",
       "      <td>1</td>\n",
       "      <td>0</td>\n",
       "      <td>0</td>\n",
       "      <td>1</td>\n",
       "      <td>0</td>\n",
       "      <td>...</td>\n",
       "      <td>0</td>\n",
       "      <td>1</td>\n",
       "      <td>3</td>\n",
       "      <td>0</td>\n",
       "      <td>0</td>\n",
       "      <td>0</td>\n",
       "      <td>0</td>\n",
       "      <td>7</td>\n",
       "      <td>6</td>\n",
       "      <td>1</td>\n",
       "    </tr>\n",
       "    <tr>\n",
       "      <th>2</th>\n",
       "      <td>0</td>\n",
       "      <td>1</td>\n",
       "      <td>1</td>\n",
       "      <td>1</td>\n",
       "      <td>28</td>\n",
       "      <td>0</td>\n",
       "      <td>0</td>\n",
       "      <td>0</td>\n",
       "      <td>0</td>\n",
       "      <td>1</td>\n",
       "      <td>...</td>\n",
       "      <td>1</td>\n",
       "      <td>1</td>\n",
       "      <td>5</td>\n",
       "      <td>30</td>\n",
       "      <td>30</td>\n",
       "      <td>1</td>\n",
       "      <td>0</td>\n",
       "      <td>9</td>\n",
       "      <td>4</td>\n",
       "      <td>8</td>\n",
       "    </tr>\n",
       "    <tr>\n",
       "      <th>3</th>\n",
       "      <td>0</td>\n",
       "      <td>1</td>\n",
       "      <td>0</td>\n",
       "      <td>1</td>\n",
       "      <td>27</td>\n",
       "      <td>0</td>\n",
       "      <td>0</td>\n",
       "      <td>0</td>\n",
       "      <td>1</td>\n",
       "      <td>1</td>\n",
       "      <td>...</td>\n",
       "      <td>1</td>\n",
       "      <td>0</td>\n",
       "      <td>2</td>\n",
       "      <td>0</td>\n",
       "      <td>0</td>\n",
       "      <td>0</td>\n",
       "      <td>0</td>\n",
       "      <td>11</td>\n",
       "      <td>3</td>\n",
       "      <td>6</td>\n",
       "    </tr>\n",
       "    <tr>\n",
       "      <th>4</th>\n",
       "      <td>0</td>\n",
       "      <td>1</td>\n",
       "      <td>1</td>\n",
       "      <td>1</td>\n",
       "      <td>24</td>\n",
       "      <td>0</td>\n",
       "      <td>0</td>\n",
       "      <td>0</td>\n",
       "      <td>1</td>\n",
       "      <td>1</td>\n",
       "      <td>...</td>\n",
       "      <td>1</td>\n",
       "      <td>0</td>\n",
       "      <td>2</td>\n",
       "      <td>3</td>\n",
       "      <td>0</td>\n",
       "      <td>0</td>\n",
       "      <td>0</td>\n",
       "      <td>11</td>\n",
       "      <td>5</td>\n",
       "      <td>4</td>\n",
       "    </tr>\n",
       "  </tbody>\n",
       "</table>\n",
       "<p>5 rows × 22 columns</p>\n",
       "</div>"
      ],
      "text/plain": [
       "   HeartDiseaseorAttack  HighBP  HighChol  CholCheck  BMI  Smoker  Stroke  \\\n",
       "0                     0       1         1          1   40       1       0   \n",
       "1                     0       0         0          0   25       1       0   \n",
       "2                     0       1         1          1   28       0       0   \n",
       "3                     0       1         0          1   27       0       0   \n",
       "4                     0       1         1          1   24       0       0   \n",
       "\n",
       "   Diabetes  PhysActivity  Fruits  ...  AnyHealthcare  NoDocbcCost  GenHlth  \\\n",
       "0         0             0       0  ...              1            0        5   \n",
       "1         0             1       0  ...              0            1        3   \n",
       "2         0             0       1  ...              1            1        5   \n",
       "3         0             1       1  ...              1            0        2   \n",
       "4         0             1       1  ...              1            0        2   \n",
       "\n",
       "   MentHlth  PhysHlth  DiffWalk  Sex  Age  Education  Income  \n",
       "0        18        15         1    0    9          4       3  \n",
       "1         0         0         0    0    7          6       1  \n",
       "2        30        30         1    0    9          4       8  \n",
       "3         0         0         0    0   11          3       6  \n",
       "4         3         0         0    0   11          5       4  \n",
       "\n",
       "[5 rows x 22 columns]"
      ]
     },
     "execution_count": 1,
     "metadata": {},
     "output_type": "execute_result"
    }
   ],
   "source": [
    "import pandas as pd \n",
    "\n",
    "df = pd.read_csv('data/heart_disease_health_indicators.csv')\n",
    "df.head()"
   ]
  },
  {
   "cell_type": "code",
   "execution_count": 2,
   "metadata": {},
   "outputs": [],
   "source": [
    "## Check DF for Missing, duplicates, and Invalid Values\n",
    "def rework_dataframe(data):\n",
    "    num_dups = data.duplicated().sum()\n",
    "    num_na = data.isna().sum()\n",
    "    if(num_dups > 0):\n",
    "        print('Duplicates are detected: {}'.format(num_dups))\n",
    "    if(num_na > 0):\n",
    "        print('Missing Values detected: {}'.format(num_na))\n",
    "    "
   ]
  },
  {
   "cell_type": "code",
   "execution_count": 3,
   "metadata": {},
   "outputs": [
    {
     "name": "stdout",
     "output_type": "stream",
     "text": [
      "<class 'pandas.core.frame.DataFrame'>\n",
      "RangeIndex: 253661 entries, 0 to 253660\n",
      "Data columns (total 22 columns):\n",
      " #   Column                Non-Null Count   Dtype\n",
      "---  ------                --------------   -----\n",
      " 0   HeartDiseaseorAttack  253661 non-null  int64\n",
      " 1   HighBP                253661 non-null  int64\n",
      " 2   HighChol              253661 non-null  int64\n",
      " 3   CholCheck             253661 non-null  int64\n",
      " 4   BMI                   253661 non-null  int64\n",
      " 5   Smoker                253661 non-null  int64\n",
      " 6   Stroke                253661 non-null  int64\n",
      " 7   Diabetes              253661 non-null  int64\n",
      " 8   PhysActivity          253661 non-null  int64\n",
      " 9   Fruits                253661 non-null  int64\n",
      " 10  Veggies               253661 non-null  int64\n",
      " 11  HvyAlcoholConsump     253661 non-null  int64\n",
      " 12  AnyHealthcare         253661 non-null  int64\n",
      " 13  NoDocbcCost           253661 non-null  int64\n",
      " 14  GenHlth               253661 non-null  int64\n",
      " 15  MentHlth              253661 non-null  int64\n",
      " 16  PhysHlth              253661 non-null  int64\n",
      " 17  DiffWalk              253661 non-null  int64\n",
      " 18  Sex                   253661 non-null  int64\n",
      " 19  Age                   253661 non-null  int64\n",
      " 20  Education             253661 non-null  int64\n",
      " 21  Income                253661 non-null  int64\n",
      "dtypes: int64(22)\n",
      "memory usage: 42.6 MB\n"
     ]
    }
   ],
   "source": [
    "#rework_dataframe(df)\n",
    "df.duplicated().sum()\n",
    "df.info()"
   ]
  },
  {
   "cell_type": "code",
   "execution_count": 4,
   "metadata": {},
   "outputs": [
    {
     "data": {
      "text/plain": [
       "[('HeartDiseaseorAttack', 0.9999999999999998),\n",
       " ('GenHlth', 0.2583800622649124),\n",
       " ('Age', 0.22158835697534263),\n",
       " ('DiffWalk', 0.2126999481939687),\n",
       " ('HighBP', 0.20934690842623432),\n",
       " ('Stroke', 0.20297847349674555),\n",
       " ('PhysHlth', 0.18175010145835535),\n",
       " ('HighChol', 0.18074387371463468),\n",
       " ('Diabetes', 0.18021994385870915),\n",
       " ('Smoker', 0.11445077570868405),\n",
       " ('Sex', 0.08608182466801063),\n",
       " ('MentHlth', 0.06463166419525669),\n",
       " ('BMI', 0.052926666263651063),\n",
       " ('CholCheck', 0.04420165755038282),\n",
       " ('NoDocbcCost', 0.030993550184341512),\n",
       " ('AnyHealthcare', 0.018726220731768776),\n",
       " ('Fruits', -0.01982175181650511),\n",
       " ('HvyAlcoholConsump', -0.028982837059524005),\n",
       " ('Veggies', -0.03911745901063158),\n",
       " ('PhysActivity', -0.08728353166268642),\n",
       " ('Education', -0.09955612300239525),\n",
       " ('Income', -0.14096600406335408)]"
      ]
     },
     "execution_count": 4,
     "metadata": {},
     "output_type": "execute_result"
    }
   ],
   "source": [
    "sorted_corr = sorted(list(zip(df.corrwith(df.HeartDiseaseorAttack).index, df.corrwith(df.HeartDiseaseorAttack).values)), key= lambda x: x[1], reverse= True)\n",
    "sorted_corr"
   ]
  },
  {
   "cell_type": "markdown",
   "metadata": {},
   "source": [
    "## First Look\n",
    "1. Duplicate are acceptable due to the lack of indivudal tracking of rows. \n",
    "2. All columns have the data type of integer. This means that the categorial columns are binned in integer rather than string categories. \n",
    "3. **253,661** different entries in the dataset\n",
    "4. General Health and Age are the top two correlating indictors for heart disease. \n",
    "\n",
    "Surprisingly, the ones I believe to be more impactful was lower in the list. It might be intereseting to see the correlation from one another instead of the targeted value. \n",
    "Since age and general health are such broad terms, it could be umbrela to other issues. For example, assuming that a higher general health number means a worst assessment, a higher blood pressure and cholerstol level would be expected. \n",
    "\n",
    "This presents a problem that we are assuming metrics and since the dataset didn't come with explanation to the columns, it would be wrong to use them in an sense of factual useage. Therefore, I will be removing those with less meaningful metric. \n",
    "General Health and Mental Health are two of the uncertain metric that doesn't state whther a higher number is better or worse.  "
   ]
  },
  {
   "cell_type": "code",
   "execution_count": 5,
   "metadata": {},
   "outputs": [
    {
     "data": {
      "text/plain": [
       "HeartDiseaseorAttack    0.258380\n",
       "HighBP                  0.300503\n",
       "HighChol                0.208409\n",
       "CholCheck               0.046589\n",
       "BMI                     0.239211\n",
       "Smoker                  0.163159\n",
       "Stroke                  0.177933\n",
       "Diabetes                0.302585\n",
       "PhysActivity           -0.266180\n",
       "Fruits                 -0.103861\n",
       "Veggies                -0.123040\n",
       "HvyAlcoholConsump      -0.036722\n",
       "AnyHealthcare          -0.040822\n",
       "NoDocbcCost             0.166407\n",
       "GenHlth                 1.000000\n",
       "MentHlth                0.301661\n",
       "PhysHlth                0.524395\n",
       "DiffWalk                0.456926\n",
       "Sex                    -0.006091\n",
       "Age                     0.152424\n",
       "Education              -0.284932\n",
       "Income                 -0.370051\n",
       "dtype: float64"
      ]
     },
     "execution_count": 5,
     "metadata": {},
     "output_type": "execute_result"
    }
   ],
   "source": [
    "df.corrwith(df.GenHlth)"
   ]
  },
  {
   "cell_type": "code",
   "execution_count": 6,
   "metadata": {},
   "outputs": [],
   "source": [
    "import matplotlib.pyplot as plt\n",
    "for column in df.columns[1:]:\n",
    "    temp_df = df[[column, 'HeartDiseaseorAttack']]\n",
    "    "
   ]
  },
  {
   "cell_type": "code",
   "execution_count": 7,
   "metadata": {},
   "outputs": [],
   "source": [
    "cont_col = ['BMI', 'Age']\n",
    "cat_col = ['CholCheck', 'PhysActivity', 'Fruits', 'Veggies', 'GenHlth','MentHlth', 'PhysHlth', 'Education', 'Income']\n",
    "bin_col = ['HighBP', 'HighChol', 'Smoker', 'Stroke', 'Diabetes','HvyAlcoholConsump', 'AnyHealthcare', 'NoDocbcCost', 'DiffWalk', 'Sex']\n",
    "target = 'HeartDiseaseorAttack'\n",
    "\n",
    "cat_df = df[cat_col]\n",
    "bin_df = df[bin_col]\n",
    "cont_df = df[cont_col]"
   ]
  },
  {
   "cell_type": "code",
   "execution_count": 8,
   "metadata": {},
   "outputs": [
    {
     "data": {
      "text/plain": [
       "1    244191\n",
       "0      9470\n",
       "Name: CholCheck, dtype: int64"
      ]
     },
     "metadata": {},
     "output_type": "display_data"
    },
    {
     "data": {
      "text/plain": [
       "1    191914\n",
       "0     61747\n",
       "Name: PhysActivity, dtype: int64"
      ]
     },
     "metadata": {},
     "output_type": "display_data"
    },
    {
     "data": {
      "text/plain": [
       "1    160888\n",
       "0     92773\n",
       "Name: Fruits, dtype: int64"
      ]
     },
     "metadata": {},
     "output_type": "display_data"
    },
    {
     "data": {
      "text/plain": [
       "1    205830\n",
       "0     47831\n",
       "Name: Veggies, dtype: int64"
      ]
     },
     "metadata": {},
     "output_type": "display_data"
    },
    {
     "data": {
      "text/plain": [
       "2    89081\n",
       "3    75638\n",
       "1    45295\n",
       "4    31567\n",
       "5    12080\n",
       "Name: GenHlth, dtype: int64"
      ]
     },
     "metadata": {},
     "output_type": "display_data"
    },
    {
     "data": {
      "text/plain": [
       "0     175664\n",
       "2      13054\n",
       "30     12087\n",
       "5       9030\n",
       "1       8538\n",
       "3       7381\n",
       "10      6373\n",
       "15      5504\n",
       "4       3789\n",
       "20      3364\n",
       "7       3100\n",
       "25      1188\n",
       "14      1166\n",
       "6        988\n",
       "8        639\n",
       "12       398\n",
       "28       327\n",
       "21       227\n",
       "29       158\n",
       "18        97\n",
       "9         91\n",
       "16        88\n",
       "27        79\n",
       "22        63\n",
       "17        54\n",
       "26        45\n",
       "11        41\n",
       "13        41\n",
       "23        38\n",
       "24        33\n",
       "19        16\n",
       "Name: MentHlth, dtype: int64"
      ]
     },
     "metadata": {},
     "output_type": "display_data"
    },
    {
     "data": {
      "text/plain": [
       "0     160041\n",
       "30     19398\n",
       "2      14763\n",
       "1      11388\n",
       "3       8494\n",
       "5       7620\n",
       "10      5595\n",
       "15      4915\n",
       "4       4541\n",
       "7       4538\n",
       "20      3273\n",
       "14      2587\n",
       "25      1336\n",
       "6       1330\n",
       "8        809\n",
       "21       663\n",
       "12       578\n",
       "28       522\n",
       "29       215\n",
       "9        179\n",
       "18       152\n",
       "16       112\n",
       "27        99\n",
       "17        96\n",
       "24        72\n",
       "22        70\n",
       "26        69\n",
       "13        68\n",
       "11        60\n",
       "23        56\n",
       "19        22\n",
       "Name: PhysHlth, dtype: int64"
      ]
     },
     "metadata": {},
     "output_type": "display_data"
    },
    {
     "data": {
      "text/plain": [
       "6    107316\n",
       "5     69907\n",
       "4     62748\n",
       "3      9476\n",
       "2      4040\n",
       "1       174\n",
       "Name: Education, dtype: int64"
      ]
     },
     "metadata": {},
     "output_type": "display_data"
    },
    {
     "data": {
      "text/plain": [
       "8    90384\n",
       "7    43217\n",
       "6    36468\n",
       "5    25882\n",
       "4    20131\n",
       "3    15994\n",
       "2    11777\n",
       "1     9808\n",
       "Name: Income, dtype: int64"
      ]
     },
     "metadata": {},
     "output_type": "display_data"
    }
   ],
   "source": [
    "for col in cat_df.columns:\n",
    "    display(cat_df[col].value_counts())"
   ]
  },
  {
   "cell_type": "code",
   "execution_count": 9,
   "metadata": {},
   "outputs": [
    {
     "data": {
      "text/plain": [
       "27    24604\n",
       "26    20562\n",
       "24    19550\n",
       "25    17144\n",
       "28    16543\n",
       "      ...  \n",
       "78        1\n",
       "85        1\n",
       "86        1\n",
       "90        1\n",
       "91        1\n",
       "Name: BMI, Length: 84, dtype: int64"
      ]
     },
     "metadata": {},
     "output_type": "display_data"
    },
    {
     "data": {
      "text/plain": [
       "9     33243\n",
       "10    32193\n",
       "8     30831\n",
       "7     26313\n",
       "11    23531\n",
       "6     19815\n",
       "13    17362\n",
       "5     16153\n",
       "12    15979\n",
       "4     13823\n",
       "3     11121\n",
       "2      7597\n",
       "1      5700\n",
       "Name: Age, dtype: int64"
      ]
     },
     "metadata": {},
     "output_type": "display_data"
    }
   ],
   "source": [
    "for col in cont_df.columns:\n",
    "    display(cont_df[col].value_counts())"
   ]
  },
  {
   "cell_type": "code",
   "execution_count": 10,
   "metadata": {},
   "outputs": [
    {
     "data": {
      "text/plain": [
       "0    144843\n",
       "1    108818\n",
       "Name: HighBP, dtype: int64"
      ]
     },
     "metadata": {},
     "output_type": "display_data"
    },
    {
     "data": {
      "text/plain": [
       "0    146080\n",
       "1    107581\n",
       "Name: HighChol, dtype: int64"
      ]
     },
     "metadata": {},
     "output_type": "display_data"
    },
    {
     "data": {
      "text/plain": [
       "0    141242\n",
       "1    112419\n",
       "Name: Smoker, dtype: int64"
      ]
     },
     "metadata": {},
     "output_type": "display_data"
    },
    {
     "data": {
      "text/plain": [
       "0    243370\n",
       "1     10291\n",
       "Name: Stroke, dtype: int64"
      ]
     },
     "metadata": {},
     "output_type": "display_data"
    },
    {
     "data": {
      "text/plain": [
       "0    213690\n",
       "2     35342\n",
       "1      4629\n",
       "Name: Diabetes, dtype: int64"
      ]
     },
     "metadata": {},
     "output_type": "display_data"
    },
    {
     "data": {
      "text/plain": [
       "0    239405\n",
       "1     14256\n",
       "Name: HvyAlcoholConsump, dtype: int64"
      ]
     },
     "metadata": {},
     "output_type": "display_data"
    },
    {
     "data": {
      "text/plain": [
       "1    241244\n",
       "0     12417\n",
       "Name: AnyHealthcare, dtype: int64"
      ]
     },
     "metadata": {},
     "output_type": "display_data"
    },
    {
     "data": {
      "text/plain": [
       "0    232312\n",
       "1     21349\n",
       "Name: NoDocbcCost, dtype: int64"
      ]
     },
     "metadata": {},
     "output_type": "display_data"
    },
    {
     "data": {
      "text/plain": [
       "0    210990\n",
       "1     42671\n",
       "Name: DiffWalk, dtype: int64"
      ]
     },
     "metadata": {},
     "output_type": "display_data"
    },
    {
     "data": {
      "text/plain": [
       "0    141962\n",
       "1    111699\n",
       "Name: Sex, dtype: int64"
      ]
     },
     "metadata": {},
     "output_type": "display_data"
    }
   ],
   "source": [
    "for col in bin_df.columns:\n",
    "    display(bin_df[col].value_counts())"
   ]
  },
  {
   "cell_type": "markdown",
   "metadata": {},
   "source": [
    "## Adjustments\n",
    "It appears that some of the columns were not labeled correctly and should be changed to the correct type. Some of the mistakes made sense such as Diebietes have 0, 1, and 2 which I infer as 0 (not diebetix, type 1, and type 2. This however, requeirs me to assume which would be bad to consider currently until I have more information to actually use for this project. \n",
    "\n",
    "There is also some ambituos infomation regarding some of the categroatcal having only binary infomation. Following the author original trend, we can assume taht 0 is the lack of and 1 being hte pressents of. Since there isn't a metric of what to compare this to, I will assume that the patient meet the recommended amount of fruit, vegetables and phyiscal activity in the United States. "
   ]
  },
  {
   "cell_type": "code",
   "execution_count": 11,
   "metadata": {},
   "outputs": [],
   "source": [
    "cont_col = ['BMI', 'Age']\n",
    "cat_col = ['Education', 'Income', 'Diabetes']\n",
    "bin_col = ['CholCheck', 'PhysActivity', 'Fruits', 'Veggies', 'HighBP', 'HighChol', 'Smoker', 'Stroke', 'HvyAlcoholConsump', 'AnyHealthcare', 'NoDocbcCost', 'DiffWalk', 'Sex']\n",
    "on_hold = ['GenHlth','MentHlth', 'PhysHlth']\n",
    "target = 'HeartDiseaseorAttack'\n",
    "\n",
    "cat_df = df[cat_col]\n",
    "bin_df = df[bin_col]\n",
    "cont_df = df[cont_col]"
   ]
  },
  {
   "cell_type": "code",
   "execution_count": 12,
   "metadata": {},
   "outputs": [
    {
     "name": "stdout",
     "output_type": "stream",
     "text": [
      "Binary Columns\n"
     ]
    },
    {
     "data": {
      "text/plain": [
       "1    244191\n",
       "0      9470\n",
       "Name: CholCheck, dtype: int64"
      ]
     },
     "metadata": {},
     "output_type": "display_data"
    },
    {
     "data": {
      "text/plain": [
       "1    191914\n",
       "0     61747\n",
       "Name: PhysActivity, dtype: int64"
      ]
     },
     "metadata": {},
     "output_type": "display_data"
    },
    {
     "data": {
      "text/plain": [
       "1    160888\n",
       "0     92773\n",
       "Name: Fruits, dtype: int64"
      ]
     },
     "metadata": {},
     "output_type": "display_data"
    },
    {
     "data": {
      "text/plain": [
       "1    205830\n",
       "0     47831\n",
       "Name: Veggies, dtype: int64"
      ]
     },
     "metadata": {},
     "output_type": "display_data"
    },
    {
     "data": {
      "text/plain": [
       "0    144843\n",
       "1    108818\n",
       "Name: HighBP, dtype: int64"
      ]
     },
     "metadata": {},
     "output_type": "display_data"
    },
    {
     "data": {
      "text/plain": [
       "0    146080\n",
       "1    107581\n",
       "Name: HighChol, dtype: int64"
      ]
     },
     "metadata": {},
     "output_type": "display_data"
    },
    {
     "data": {
      "text/plain": [
       "0    141242\n",
       "1    112419\n",
       "Name: Smoker, dtype: int64"
      ]
     },
     "metadata": {},
     "output_type": "display_data"
    },
    {
     "data": {
      "text/plain": [
       "0    243370\n",
       "1     10291\n",
       "Name: Stroke, dtype: int64"
      ]
     },
     "metadata": {},
     "output_type": "display_data"
    },
    {
     "data": {
      "text/plain": [
       "0    239405\n",
       "1     14256\n",
       "Name: HvyAlcoholConsump, dtype: int64"
      ]
     },
     "metadata": {},
     "output_type": "display_data"
    },
    {
     "data": {
      "text/plain": [
       "1    241244\n",
       "0     12417\n",
       "Name: AnyHealthcare, dtype: int64"
      ]
     },
     "metadata": {},
     "output_type": "display_data"
    },
    {
     "data": {
      "text/plain": [
       "0    232312\n",
       "1     21349\n",
       "Name: NoDocbcCost, dtype: int64"
      ]
     },
     "metadata": {},
     "output_type": "display_data"
    },
    {
     "data": {
      "text/plain": [
       "0    210990\n",
       "1     42671\n",
       "Name: DiffWalk, dtype: int64"
      ]
     },
     "metadata": {},
     "output_type": "display_data"
    },
    {
     "data": {
      "text/plain": [
       "0    141962\n",
       "1    111699\n",
       "Name: Sex, dtype: int64"
      ]
     },
     "metadata": {},
     "output_type": "display_data"
    },
    {
     "name": "stdout",
     "output_type": "stream",
     "text": [
      "\n",
      "\n",
      "Continuous Columns\n"
     ]
    },
    {
     "data": {
      "text/plain": [
       "27    24604\n",
       "26    20562\n",
       "24    19550\n",
       "25    17144\n",
       "28    16543\n",
       "      ...  \n",
       "78        1\n",
       "85        1\n",
       "86        1\n",
       "90        1\n",
       "91        1\n",
       "Name: BMI, Length: 84, dtype: int64"
      ]
     },
     "metadata": {},
     "output_type": "display_data"
    },
    {
     "data": {
      "text/plain": [
       "9     33243\n",
       "10    32193\n",
       "8     30831\n",
       "7     26313\n",
       "11    23531\n",
       "6     19815\n",
       "13    17362\n",
       "5     16153\n",
       "12    15979\n",
       "4     13823\n",
       "3     11121\n",
       "2      7597\n",
       "1      5700\n",
       "Name: Age, dtype: int64"
      ]
     },
     "metadata": {},
     "output_type": "display_data"
    },
    {
     "name": "stdout",
     "output_type": "stream",
     "text": [
      "\n",
      "\n",
      "Categorical Columns\n"
     ]
    },
    {
     "data": {
      "text/plain": [
       "6    107316\n",
       "5     69907\n",
       "4     62748\n",
       "3      9476\n",
       "2      4040\n",
       "1       174\n",
       "Name: Education, dtype: int64"
      ]
     },
     "metadata": {},
     "output_type": "display_data"
    },
    {
     "data": {
      "text/plain": [
       "8    90384\n",
       "7    43217\n",
       "6    36468\n",
       "5    25882\n",
       "4    20131\n",
       "3    15994\n",
       "2    11777\n",
       "1     9808\n",
       "Name: Income, dtype: int64"
      ]
     },
     "metadata": {},
     "output_type": "display_data"
    },
    {
     "data": {
      "text/plain": [
       "0    213690\n",
       "2     35342\n",
       "1      4629\n",
       "Name: Diabetes, dtype: int64"
      ]
     },
     "metadata": {},
     "output_type": "display_data"
    }
   ],
   "source": [
    "print('Binary Columns')\n",
    "for col in bin_df.columns:\n",
    "    display(bin_df[col].value_counts())\n",
    "print('\\n') \n",
    "print('Continuous Columns')    \n",
    "for col in cont_df.columns:\n",
    "    display(cont_df[col].value_counts())\n",
    "print('\\n') \n",
    "print('Categorical Columns')\n",
    "for col in cat_df.columns:\n",
    "    display(cat_df[col].value_counts())"
   ]
  },
  {
   "cell_type": "markdown",
   "metadata": {},
   "source": [
    "## Class Balance\n",
    "Looking at the target distribution helps us understand whether or not the data is balanced toward one side or the other. \n",
    "We can see that majority of the patients does not have any heart related issues which can be a problem when modeling known as a class imbalance. \n",
    "Some solutions would be to under or over sample the data to have a more distribution with the data available. "
   ]
  },
  {
   "cell_type": "code",
   "execution_count": 19,
   "metadata": {},
   "outputs": [
    {
     "data": {
      "text/plain": [
       "0    0.905827\n",
       "1    0.094173\n",
       "Name: HeartDiseaseorAttack, dtype: float64"
      ]
     },
     "execution_count": 19,
     "metadata": {},
     "output_type": "execute_result"
    },
    {
     "data": {
      "image/png": "[encoded data removed]",
      "text/plain": [
       "<Figure size 432x288 with 1 Axes>"
      ]
     },
     "metadata": {
      "needs_background": "light"
     },
     "output_type": "display_data"
    }
   ],
   "source": [
    "df.HeartDiseaseorAttack.plot(kind = 'hist', xticks = [0,1])\n",
    "df.HeartDiseaseorAttack.value_counts(normalize= True)"
   ]
  },
  {
   "cell_type": "code",
   "execution_count": null,
   "metadata": {},
   "outputs": [],
   "source": []
  }
 ],
 "metadata": {
  "kernelspec": {
   "display_name": "Python 3",
   "language": "python",
   "name": "python3"
  },
  "language_info": {
   "codemirror_mode": {
    "name": "ipython",
    "version": 3
   },
   "file_extension": ".py",
   "mimetype": "text/x-python",
   "name": "python",
   "nbconvert_exporter": "python",
   "pygments_lexer": "ipython3",
   "version": "3.8.5"
  }
 },
 "nbformat": 4,
 "nbformat_minor": 4
}
