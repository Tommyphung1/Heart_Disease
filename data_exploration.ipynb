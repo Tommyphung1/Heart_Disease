{
 "cells": [
  {
   "cell_type": "markdown",
   "metadata": {},
   "source": [
    "# Data Exploration"
   ]
  },
  {
   "cell_type": "markdown",
   "metadata": {},
   "source": [
    "# Data First Look\n",
    "Following description are from the kaggle link https://www.kaggle.com/datasets/bhaveshmisra/heart-disease-indicators/ from where the data was obtained. \n",
    "\n",
    "| **Column Name** | **Description** | **Markers** |\n",
    "|:---:|:---:|:---:|\n",
    "| HeartDiseaseorAttack: | Indicates whether the individual has had a heart disease or heart attack | (binary: 0 = No, 1 = Yes) |\n",
    "| HighBP | High blood pressure status | (binary: 0 = No, 1 = Yes) |\n",
    "| HighChol | High cholesterol status | (binary: 0 = No, 1 = Yes) |\n",
    "| CholCheck | Frequency of cholesterol check | categorical |\n",
    "| BMI | Body Mass Index | continuous |\n",
    "| Smoker | Smoking status | (binary: 0 = No, 1 = Yes) |\n",
    "| Stroke | History of stroke | (binary: 0 = No, 1 = Yes) |\n",
    "| Diabetes | Diabetes status | (binary: 0 = No, 1 = Yes) |\n",
    "| PhysActivity | Level of physical activity | categorical |\n",
    "| Fruits | Frequency of fruit consumption | categorical |\n",
    "| Veggies | Frequency of vegetable consumption | categorical |\n",
    "| HvyAlcoholConsump | Heavy alcohol consumption status | (binary: 0 = No, 1 = Yes) |\n",
    "| AnyHealthcare | Access to any healthcare | (binary: 0 = No, 1 = Yes) |\n",
    "| NoDocbcCost | No doctor because of cost | (binary: 0 = No, 1 = Yes) |\n",
    "| GenHlth | General health assessment | categorical |\n",
    "| MentHlth | Mental health assessment | categorical |\n",
    "| PhysHlth | Level of physical activity | categorical |\n",
    "| DiffWalk | Difficulty walking status | binary: 0 = No, 1 = Yes |\n",
    "| Sex | Gender of the individual | binary: 0 = Female, 1 = Male |\n",
    "| Age | Age of the individual | continuous |\n",
    "| Education | Educational level | categorical |\n",
    "| Income | Income level | categorical |"
   ]
  },
  {
   "cell_type": "code",
   "execution_count": null,
   "metadata": {},
   "outputs": [],
   "source": [
    "import pandas as pd \n",
    "\n",
    "df = pd.read_csv('data/heart_disease_health_indicators.csv')\n",
    "df.head()"
   ]
  },
  {
   "cell_type": "code",
   "execution_count": null,
   "metadata": {},
   "outputs": [],
   "source": [
    "## Check DF for Missing, duplicates, and Invalid Values\n",
    "def rework_dataframe(data):\n",
    "    num_dups = data.duplicated().sum()\n",
    "    num_na = data.isna().sum()\n",
    "    if(num_dups > 0):\n",
    "        print('Duplicates are detected: {}'.format(num_dups))\n",
    "    if(num_na > 0):\n",
    "        print('Missing Values detected: {}'.format(num_na))\n",
    "    "
   ]
  },
  {
   "cell_type": "code",
   "execution_count": null,
   "metadata": {},
   "outputs": [],
   "source": [
    "\n",
    "#rework_dataframe(df)\n",
    "df.duplicated().sum()\n",
    "df.info()"
   ]
  },
  {
   "cell_type": "code",
   "execution_count": null,
   "metadata": {},
   "outputs": [],
   "source": [
    "sorted_corr = sorted(list(zip(df.corrwith(df.HeartDiseaseorAttack).index, df.corrwith(df.HeartDiseaseorAttack).values)), key= lambda x: x[1])\n",
    "sorted_corr"
   ]
  },
  {
   "cell_type": "markdown",
   "metadata": {},
   "source": [
    "## First Look\n",
    "1. Duplicate are acceptable due to the lack of indivudal tracking of rows. \n",
    "2. All columns have the data type of integer. This means that the categorial columns are binned in integer rather than string categories. \n",
    "3. **253,661** different entries in the dataset\n",
    "4. General Health and Age are the top two correlating indictors for heart disease. \n",
    "\n",
    "Surprisingly, the ones I believe to be more impactful was lower in the list. It might be intereseting to see the correlation from one another instead of the targeted value. \n",
    "Since age and general health are such broad terms, it could be umbrela to other issues. For example, assuming that a higher general health number means a worst assessment, a higher blood pressure and cholerstol level would be expected. \n",
    "\n",
    "This presents a problem that we are assuming metrics and since the dataset didn't come with explanation to the columns, it would be wrong to use them in an sense of factual useage. Therefore, I will be removing those with less meaningful metric. \n",
    "General Health and Mental Health are two of the uncertain metric that doesn't state whther a higher number is better or worse.  "
   ]
  },
  {
   "cell_type": "code",
   "execution_count": null,
   "metadata": {},
   "outputs": [],
   "source": [
    "df.corrwith(df.GenHlth)"
   ]
  },
  {
   "cell_type": "code",
   "execution_count": null,
   "metadata": {},
   "outputs": [],
   "source": [
    "import matplotlib.pyplot as plt\n",
    "for column in df.columns[1:]:\n",
    "    temp_df = df[[column, 'HeartDiseaseorAttack']]\n",
    "    "
   ]
  },
  {
   "cell_type": "code",
   "execution_count": null,
   "metadata": {},
   "outputs": [],
   "source": [
    "cont_col = ['BMI', 'Age']\n",
    "cat_col = ['CholCheck', 'PhysActivity', 'Fruits', 'Veggies', 'GenHlth','MentHlth', 'PhysHlth', 'Education', 'Income']\n",
    "bin_col = ['HighBP', 'HighChol', 'Smoker', 'Stroke', 'Diabetes','HvyAlcoholConsump', 'AnyHealthcare', 'NoDocbcCost', 'DiffWalk', 'Sex']\n",
    "target = 'HeartDiseaseorAttack'\n",
    "\n",
    "cat_df = df[cat_col]\n",
    "bin_df = df[bin_col]\n",
    "cont_df = df[cont_col]"
   ]
  },
  {
   "cell_type": "code",
   "execution_count": null,
   "metadata": {},
   "outputs": [],
   "source": [
    "for col in cat_df.columns:\n",
    "    display(cat_df[col].value_counts())"
   ]
  },
  {
   "cell_type": "code",
   "execution_count": null,
   "metadata": {},
   "outputs": [],
   "source": [
    "for col in cont_df.columns:\n",
    "    display(cont_df[col].value_counts())"
   ]
  },
  {
   "cell_type": "code",
   "execution_count": null,
   "metadata": {},
   "outputs": [],
   "source": [
    "for col in bin_df.columns:\n",
    "    display(bin_df[col].value_counts())"
   ]
  },
  {
   "cell_type": "markdown",
   "metadata": {},
   "source": [
    "## Adjustments\n",
    "It appears that some of the columns were not labeled correctly and should be changed to the correct type. Some of the mistakes made sense such as Diebietes have 0, 1, and 2 which I infer as 0 (not diebetix, type 1, and type 2. This however, requeirs me to assume which would be bad to consider currently until I have more information to actually use for this project. \n",
    "\n",
    "There is also some ambituos infomation regarding some of the categroatcal having only binary infomation. Following the author original trend, we can assume taht 0 is the lack of and 1 being hte pressents of. Since there isn't a metric of what to compare this to, I will assume that the patient meet the recommended amount of fruit, vegetables and phyiscal activity in the United States. "
   ]
  },
  {
   "cell_type": "code",
   "execution_count": 66,
   "metadata": {},
   "outputs": [],
   "source": [
    "cont_col = ['BMI', 'Age']\n",
    "cat_col = ['Education', 'Income', 'Diabetes']\n",
    "bin_col = ['CholCheck', 'PhysActivity', 'Fruits', 'Veggies', 'HighBP', 'HighChol', 'Smoker', 'Stroke', 'HvyAlcoholConsump', 'AnyHealthcare', 'NoDocbcCost', 'DiffWalk', 'Sex']\n",
    "on_hold = ['GenHlth','MentHlth', 'PhysHlth']\n",
    "target = 'HeartDiseaseorAttack'\n",
    "\n",
    "cat_df = df[cat_col]\n",
    "bin_df = df[bin_col]\n",
    "cont_df = df[cont_col]"
   ]
  },
  {
   "cell_type": "code",
   "execution_count": 70,
   "metadata": {},
   "outputs": [
    {
     "name": "stdout",
     "output_type": "stream",
     "text": [
      "Binary Columns\n"
     ]
    },
    {
     "data": {
      "text/plain": [
       "1    244191\n",
       "0      9470\n",
       "Name: CholCheck, dtype: int64"
      ]
     },
     "metadata": {},
     "output_type": "display_data"
    },
    {
     "data": {
      "text/plain": [
       "1    191914\n",
       "0     61747\n",
       "Name: PhysActivity, dtype: int64"
      ]
     },
     "metadata": {},
     "output_type": "display_data"
    },
    {
     "data": {
      "text/plain": [
       "1    160888\n",
       "0     92773\n",
       "Name: Fruits, dtype: int64"
      ]
     },
     "metadata": {},
     "output_type": "display_data"
    },
    {
     "data": {
      "text/plain": [
       "1    205830\n",
       "0     47831\n",
       "Name: Veggies, dtype: int64"
      ]
     },
     "metadata": {},
     "output_type": "display_data"
    },
    {
     "data": {
      "text/plain": [
       "0    144843\n",
       "1    108818\n",
       "Name: HighBP, dtype: int64"
      ]
     },
     "metadata": {},
     "output_type": "display_data"
    },
    {
     "data": {
      "text/plain": [
       "0    146080\n",
       "1    107581\n",
       "Name: HighChol, dtype: int64"
      ]
     },
     "metadata": {},
     "output_type": "display_data"
    },
    {
     "data": {
      "text/plain": [
       "0    141242\n",
       "1    112419\n",
       "Name: Smoker, dtype: int64"
      ]
     },
     "metadata": {},
     "output_type": "display_data"
    },
    {
     "data": {
      "text/plain": [
       "0    243370\n",
       "1     10291\n",
       "Name: Stroke, dtype: int64"
      ]
     },
     "metadata": {},
     "output_type": "display_data"
    },
    {
     "data": {
      "text/plain": [
       "0    239405\n",
       "1     14256\n",
       "Name: HvyAlcoholConsump, dtype: int64"
      ]
     },
     "metadata": {},
     "output_type": "display_data"
    },
    {
     "data": {
      "text/plain": [
       "1    241244\n",
       "0     12417\n",
       "Name: AnyHealthcare, dtype: int64"
      ]
     },
     "metadata": {},
     "output_type": "display_data"
    },
    {
     "data": {
      "text/plain": [
       "0    232312\n",
       "1     21349\n",
       "Name: NoDocbcCost, dtype: int64"
      ]
     },
     "metadata": {},
     "output_type": "display_data"
    },
    {
     "data": {
      "text/plain": [
       "0    210990\n",
       "1     42671\n",
       "Name: DiffWalk, dtype: int64"
      ]
     },
     "metadata": {},
     "output_type": "display_data"
    },
    {
     "data": {
      "text/plain": [
       "0    141962\n",
       "1    111699\n",
       "Name: Sex, dtype: int64"
      ]
     },
     "metadata": {},
     "output_type": "display_data"
    },
    {
     "name": "stdout",
     "output_type": "stream",
     "text": [
      "\n",
      "\n",
      "Continuous Columns\n"
     ]
    },
    {
     "data": {
      "text/plain": [
       "27    24604\n",
       "26    20562\n",
       "24    19550\n",
       "25    17144\n",
       "28    16543\n",
       "      ...  \n",
       "78        1\n",
       "85        1\n",
       "86        1\n",
       "90        1\n",
       "91        1\n",
       "Name: BMI, Length: 84, dtype: int64"
      ]
     },
     "metadata": {},
     "output_type": "display_data"
    },
    {
     "data": {
      "text/plain": [
       "9     33243\n",
       "10    32193\n",
       "8     30831\n",
       "7     26313\n",
       "11    23531\n",
       "6     19815\n",
       "13    17362\n",
       "5     16153\n",
       "12    15979\n",
       "4     13823\n",
       "3     11121\n",
       "2      7597\n",
       "1      5700\n",
       "Name: Age, dtype: int64"
      ]
     },
     "metadata": {},
     "output_type": "display_data"
    },
    {
     "name": "stdout",
     "output_type": "stream",
     "text": [
      "\n",
      "\n",
      "Categorical Columns\n"
     ]
    },
    {
     "data": {
      "text/plain": [
       "6    107316\n",
       "5     69907\n",
       "4     62748\n",
       "3      9476\n",
       "2      4040\n",
       "1       174\n",
       "Name: Education, dtype: int64"
      ]
     },
     "metadata": {},
     "output_type": "display_data"
    },
    {
     "data": {
      "text/plain": [
       "8    90384\n",
       "7    43217\n",
       "6    36468\n",
       "5    25882\n",
       "4    20131\n",
       "3    15994\n",
       "2    11777\n",
       "1     9808\n",
       "Name: Income, dtype: int64"
      ]
     },
     "metadata": {},
     "output_type": "display_data"
    },
    {
     "data": {
      "text/plain": [
       "0    213690\n",
       "2     35342\n",
       "1      4629\n",
       "Name: Diabetes, dtype: int64"
      ]
     },
     "metadata": {},
     "output_type": "display_data"
    }
   ],
   "source": [
    "print('Binary Columns')\n",
    "for col in bin_df.columns:\n",
    "    display(bin_df[col].value_counts())\n",
    "print('\\n') \n",
    "print('Continuous Columns')    \n",
    "for col in cont_df.columns:\n",
    "    display(cont_df[col].value_counts())\n",
    "print('\\n') \n",
    "print('Categorical Columns')\n",
    "for col in cat_df.columns:\n",
    "    display(cat_df[col].value_counts())"
   ]
  },
  {
   "cell_type": "code",
   "execution_count": null,
   "metadata": {},
   "outputs": [],
   "source": []
  }
 ],
 "metadata": {
  "kernelspec": {
   "display_name": "Python 3",
   "language": "python",
   "name": "python3"
  },
  "language_info": {
   "codemirror_mode": {
    "name": "ipython",
    "version": 3
   },
   "file_extension": ".py",
   "mimetype": "text/x-python",
   "name": "python",
   "nbconvert_exporter": "python",
   "pygments_lexer": "ipython3",
   "version": "3.8.5"
  }
 },
 "nbformat": 4,
 "nbformat_minor": 4
}
